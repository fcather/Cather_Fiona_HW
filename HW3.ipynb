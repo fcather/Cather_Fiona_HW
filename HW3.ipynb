{
 "cells": [
  {
   "cell_type": "code",
   "execution_count": 1,
   "id": "5e17f1d3",
   "metadata": {},
   "outputs": [
    {
     "data": {
      "text/plain": [
       "{'Andy': 88, 'Amy': 66, 'James': 90, 'Jules': 55, 'Arthur': 77}"
      ]
     },
     "execution_count": 1,
     "metadata": {},
     "output_type": "execute_result"
    }
   ],
   "source": [
    "# Question 1 Define a dictionary, composed with students name and their grade. \n",
    "marks = {'Andy': 88, 'Amy': 66, 'James': 90, 'Jules': 55, 'Arthur': 77}\n",
    "marks"
   ]
  },
  {
   "cell_type": "code",
   "execution_count": 2,
   "id": "d376f60a",
   "metadata": {},
   "outputs": [],
   "source": [
    "# Question 1.1 Define a function, when call the function, only need to pass student’s name, your function will \n",
    "# return this student’s grade. If the student name does not exit, print you cannot find this student’s name. \n",
    "def studentGRADE(student):\n",
    "    for name, grade in marks.items():\n",
    "        if name != student:\n",
    "            continue\n",
    "        else:\n",
    "            return grade\n",
    "            break\n",
    "    else:\n",
    "        print(\"You cannot find this student's name.\")"
   ]
  },
  {
   "cell_type": "code",
   "execution_count": 3,
   "id": "370cacc6",
   "metadata": {
    "scrolled": true
   },
   "outputs": [
    {
     "data": {
      "text/plain": [
       "77"
      ]
     },
     "execution_count": 3,
     "metadata": {},
     "output_type": "execute_result"
    }
   ],
   "source": [
    "studentGRADE('Arthur')"
   ]
  },
  {
   "cell_type": "code",
   "execution_count": 4,
   "id": "a9232bf3",
   "metadata": {},
   "outputs": [
    {
     "name": "stdout",
     "output_type": "stream",
     "text": [
      "You cannot find this student's name.\n"
     ]
    }
   ],
   "source": [
    "studentGRADE('Jack')"
   ]
  },
  {
   "cell_type": "code",
   "execution_count": 5,
   "id": "de402064",
   "metadata": {},
   "outputs": [],
   "source": [
    "# Question 1.2  Define another function that will return the average grade for all the students.\n",
    "def averageGRADE(gradebook):\n",
    "    return sum(gradebook.values()) / len(gradebook)"
   ]
  },
  {
   "cell_type": "code",
   "execution_count": 6,
   "id": "6e26078f",
   "metadata": {},
   "outputs": [
    {
     "data": {
      "text/plain": [
       "75.2"
      ]
     },
     "execution_count": 6,
     "metadata": {},
     "output_type": "execute_result"
    }
   ],
   "source": [
    "averageGRADE(marks)"
   ]
  },
  {
   "cell_type": "code",
   "execution_count": 7,
   "id": "0e8dd608",
   "metadata": {},
   "outputs": [
    {
     "data": {
      "text/plain": [
       "60.333333333333336"
      ]
     },
     "execution_count": 7,
     "metadata": {},
     "output_type": "execute_result"
    }
   ],
   "source": [
    "marks1 = {'Anderson': 50, 'Amilia': 71, 'Jamie': 64, 'July': 33, 'Artie': 55, 'Jacob': 89}\n",
    "averageGRADE(marks1)"
   ]
  },
  {
   "cell_type": "code",
   "execution_count": 8,
   "id": "2c9b28cd",
   "metadata": {},
   "outputs": [],
   "source": [
    "# Question 2 Define a function. Using While Loop. As long as n is less than num, print out n and square of n.\n",
    "#Otherwise, print out “greater than” the num value. When you call your function, specify the num values as 8.\n",
    "def squareNum(num):\n",
    "    n = 0\n",
    "    while n < num:\n",
    "        print(n, n ** 2)\n",
    "        n += 1\n",
    "    else:\n",
    "        print(\"Greater than\", num)   "
   ]
  },
  {
   "cell_type": "code",
   "execution_count": 9,
   "id": "e6448f71",
   "metadata": {},
   "outputs": [
    {
     "name": "stdout",
     "output_type": "stream",
     "text": [
      "0 0\n",
      "1 1\n",
      "2 4\n",
      "3 9\n",
      "4 16\n",
      "5 25\n",
      "6 36\n",
      "7 49\n",
      "Greater than 8\n"
     ]
    }
   ],
   "source": [
    "squareNum(8)"
   ]
  },
  {
   "cell_type": "code",
   "execution_count": 10,
   "id": "0fb2d5fc",
   "metadata": {},
   "outputs": [],
   "source": [
    "# Question 3 Define a function. add all the integers from 1 to num, print out the sum. Using while loop.\n",
    "def sum_int(num):\n",
    "    i = 1\n",
    "    sum = 0\n",
    "    while i <= num:\n",
    "        sum = sum + i\n",
    "        i += 1\n",
    "    print(sum)"
   ]
  },
  {
   "cell_type": "code",
   "execution_count": 11,
   "id": "44a670e8",
   "metadata": {},
   "outputs": [
    {
     "name": "stdout",
     "output_type": "stream",
     "text": [
      "28\n"
     ]
    }
   ],
   "source": [
    "sum_int(7)"
   ]
  },
  {
   "cell_type": "code",
   "execution_count": 12,
   "id": "e36891f4",
   "metadata": {},
   "outputs": [],
   "source": [
    "# Question 4 Define a function. add all the integers from 1 to num, print out the sum at each step/iteration. Using for \n",
    "#loop.\n",
    "def add_sum(num):\n",
    "    sum = 0\n",
    "    for i in range(num + 1):\n",
    "        sum = sum + i\n",
    "        i += 1\n",
    "        print(sum)"
   ]
  },
  {
   "cell_type": "code",
   "execution_count": 13,
   "id": "31284b8a",
   "metadata": {},
   "outputs": [
    {
     "name": "stdout",
     "output_type": "stream",
     "text": [
      "0\n",
      "1\n",
      "3\n",
      "6\n",
      "10\n",
      "15\n",
      "21\n",
      "28\n"
     ]
    }
   ],
   "source": [
    "add_sum(7)"
   ]
  },
  {
   "cell_type": "code",
   "execution_count": 14,
   "id": "b11cca75",
   "metadata": {},
   "outputs": [],
   "source": [
    "# Question 5 Define a function. For a given list, range (1, 100), calculate its mean, sum, and standard deviation. You \n",
    "# can use built in function and package. \n",
    "import statistics as stats"
   ]
  },
  {
   "cell_type": "code",
   "execution_count": 15,
   "id": "d493b74f",
   "metadata": {},
   "outputs": [],
   "source": [
    "def summary_stats(list1 = list(range(1, 100))):\n",
    "    print(stats.mean(list1))\n",
    "    print(sum(list1))\n",
    "    print(stats.stdev(list1))   "
   ]
  },
  {
   "cell_type": "code",
   "execution_count": 16,
   "id": "24165ff2",
   "metadata": {},
   "outputs": [
    {
     "name": "stdout",
     "output_type": "stream",
     "text": [
      "50\n",
      "4950\n",
      "28.722813232690143\n"
     ]
    }
   ],
   "source": [
    "summary_stats()"
   ]
  },
  {
   "cell_type": "code",
   "execution_count": 17,
   "id": "f02e6fb1",
   "metadata": {},
   "outputs": [
    {
     "name": "stdout",
     "output_type": "stream",
     "text": [
      "10\n",
      "190\n",
      "5.627314338711377\n"
     ]
    }
   ],
   "source": [
    "summary_stats(list(range(1, 20)))"
   ]
  },
  {
   "cell_type": "code",
   "execution_count": 2,
   "id": "f63b9179",
   "metadata": {},
   "outputs": [],
   "source": [
    "# Question 6.1 : Define a minimal function yourself, with 4 arguments. Your function will return the minimal value \n",
    "# of the 4 arguments. Do not use the python built-in functions. \n",
    "def minimal (v1, v2, v3, v4):\n",
    "    min_value = v1\n",
    "    if v2 < min_value:\n",
    "        min_value = v2\n",
    "    if v3 < min_value:\n",
    "        min_value = v3\n",
    "    if v4 < min_value:\n",
    "        min_value = v4\n",
    "    return min_value"
   ]
  },
  {
   "cell_type": "code",
   "execution_count": 3,
   "id": "1aaf638b",
   "metadata": {
    "scrolled": true
   },
   "outputs": [
    {
     "data": {
      "text/plain": [
       "8"
      ]
     },
     "execution_count": 3,
     "metadata": {},
     "output_type": "execute_result"
    }
   ],
   "source": [
    "minimal(25, 11, 8, 21)"
   ]
  },
  {
   "cell_type": "code",
   "execution_count": 4,
   "id": "5189f0a1",
   "metadata": {},
   "outputs": [
    {
     "data": {
      "text/plain": [
       "0"
      ]
     },
     "execution_count": 4,
     "metadata": {},
     "output_type": "execute_result"
    }
   ],
   "source": [
    "minimal(0, 1, 2, 3)"
   ]
  },
  {
   "cell_type": "code",
   "execution_count": 5,
   "id": "166388e3",
   "metadata": {},
   "outputs": [
    {
     "data": {
      "text/plain": [
       "13"
      ]
     },
     "execution_count": 5,
     "metadata": {},
     "output_type": "execute_result"
    }
   ],
   "source": [
    "minimal(13, 55, 27, 48)"
   ]
  },
  {
   "cell_type": "code",
   "execution_count": 7,
   "id": "9a698dbd",
   "metadata": {},
   "outputs": [],
   "source": [
    "# Question 6.2 Define another function, name it yourself, for example, you can name it print(), by calling the \n",
    "# minimal function you defined in Q1, print out the returned minimal value.\n",
    "def print_function(v1, v2, v3, v4):\n",
    "    print(minimal (v1, v2, v3, v4))"
   ]
  },
  {
   "cell_type": "code",
   "execution_count": 9,
   "id": "10dd35f4",
   "metadata": {},
   "outputs": [
    {
     "name": "stdout",
     "output_type": "stream",
     "text": [
      "0\n"
     ]
    }
   ],
   "source": [
    "print_function(0, 1, 2, 3)"
   ]
  },
  {
   "cell_type": "code",
   "execution_count": 11,
   "id": "73518a26",
   "metadata": {},
   "outputs": [
    {
     "name": "stdout",
     "output_type": "stream",
     "text": [
      "13\n"
     ]
    }
   ],
   "source": [
    "print_function(13, 55, 27, 48)"
   ]
  }
 ],
 "metadata": {
  "kernelspec": {
   "display_name": "Python 3 (ipykernel)",
   "language": "python",
   "name": "python3"
  },
  "language_info": {
   "codemirror_mode": {
    "name": "ipython",
    "version": 3
   },
   "file_extension": ".py",
   "mimetype": "text/x-python",
   "name": "python",
   "nbconvert_exporter": "python",
   "pygments_lexer": "ipython3",
   "version": "3.9.7"
  }
 },
 "nbformat": 4,
 "nbformat_minor": 5
}
