{
 "cells": [
  {
   "cell_type": "code",
   "execution_count": 1,
   "id": "5ef2d74f",
   "metadata": {},
   "outputs": [
    {
     "data": {
      "text/html": [
       "<table>\n",
       "<tbody>\n",
       "\t<tr><td>7 </td><td>9 </td><td>12</td></tr>\n",
       "\t<tr><td>2 </td><td>4 </td><td>13</td></tr>\n",
       "</tbody>\n",
       "</table>\n"
      ],
      "text/latex": [
       "\\begin{tabular}{lll}\n",
       "\t 7  & 9  & 12\\\\\n",
       "\t 2  & 4  & 13\\\\\n",
       "\\end{tabular}\n"
      ],
      "text/markdown": [
       "\n",
       "| 7  | 9  | 12 |\n",
       "| 2  | 4  | 13 |\n",
       "\n"
      ],
      "text/plain": [
       "     [,1] [,2] [,3]\n",
       "[1,] 7    9    12  \n",
       "[2,] 2    4    13  "
      ]
     },
     "metadata": {},
     "output_type": "display_data"
    },
    {
     "data": {
      "text/html": [
       "<table>\n",
       "<tbody>\n",
       "\t<tr><td>1 </td><td>7 </td><td>12</td><td>19</td></tr>\n",
       "\t<tr><td>2 </td><td>8 </td><td>13</td><td>20</td></tr>\n",
       "\t<tr><td>3 </td><td>9 </td><td>14</td><td>21</td></tr>\n",
       "</tbody>\n",
       "</table>\n"
      ],
      "text/latex": [
       "\\begin{tabular}{llll}\n",
       "\t 1  & 7  & 12 & 19\\\\\n",
       "\t 2  & 8  & 13 & 20\\\\\n",
       "\t 3  & 9  & 14 & 21\\\\\n",
       "\\end{tabular}\n"
      ],
      "text/markdown": [
       "\n",
       "| 1  | 7  | 12 | 19 |\n",
       "| 2  | 8  | 13 | 20 |\n",
       "| 3  | 9  | 14 | 21 |\n",
       "\n"
      ],
      "text/plain": [
       "     [,1] [,2] [,3] [,4]\n",
       "[1,] 1    7    12   19  \n",
       "[2,] 2    8    13   20  \n",
       "[3,] 3    9    14   21  "
      ]
     },
     "metadata": {},
     "output_type": "display_data"
    }
   ],
   "source": [
    "#Question 1: Use R to create the following two matrices and do the indicated matrix multiplication. \n",
    "#What is the resulting matrix? \n",
    "matrix1 <- matrix(c(7, 2, 9, 4, 12, 13), nrow = 2, ncol = 3)\n",
    "matrix1\n",
    "matrix2 <- matrix(c(1, 2, 3, 7, 8, 9, 12, 13, 14, 19, 20, 21), nrow = 3, ncol = 4)\n",
    "matrix2"
   ]
  },
  {
   "cell_type": "code",
   "execution_count": 2,
   "id": "46648735",
   "metadata": {},
   "outputs": [
    {
     "data": {
      "text/html": [
       "<table>\n",
       "<tbody>\n",
       "\t<tr><td>61 </td><td>229</td><td>369</td><td>565</td></tr>\n",
       "\t<tr><td>49 </td><td>163</td><td>258</td><td>391</td></tr>\n",
       "</tbody>\n",
       "</table>\n"
      ],
      "text/latex": [
       "\\begin{tabular}{llll}\n",
       "\t 61  & 229 & 369 & 565\\\\\n",
       "\t 49  & 163 & 258 & 391\\\\\n",
       "\\end{tabular}\n"
      ],
      "text/markdown": [
       "\n",
       "| 61  | 229 | 369 | 565 |\n",
       "| 49  | 163 | 258 | 391 |\n",
       "\n"
      ],
      "text/plain": [
       "     [,1] [,2] [,3] [,4]\n",
       "[1,] 61   229  369  565 \n",
       "[2,] 49   163  258  391 "
      ]
     },
     "metadata": {},
     "output_type": "display_data"
    }
   ],
   "source": [
    "matrix1 %*% matrix2"
   ]
  },
  {
   "cell_type": "code",
   "execution_count": 3,
   "id": "1cc6077f",
   "metadata": {},
   "outputs": [
    {
     "data": {
      "text/html": [
       "<table>\n",
       "<thead><tr><th scope=col>id</th><th scope=col>name</th><th scope=col>salary</th></tr></thead>\n",
       "<tbody>\n",
       "\t<tr><td>1       </td><td>Peter   </td><td>623.30  </td></tr>\n",
       "\t<tr><td>2       </td><td>Amy     </td><td>515.20  </td></tr>\n",
       "\t<tr><td>3       </td><td>Ryan    </td><td>611.00  </td></tr>\n",
       "\t<tr><td>4       </td><td>Gary    </td><td>729.00  </td></tr>\n",
       "\t<tr><td>5       </td><td>Michelle</td><td>843.25  </td></tr>\n",
       "</tbody>\n",
       "</table>\n"
      ],
      "text/latex": [
       "\\begin{tabular}{r|lll}\n",
       " id & name & salary\\\\\n",
       "\\hline\n",
       "\t 1        & Peter    & 623.30  \\\\\n",
       "\t 2        & Amy      & 515.20  \\\\\n",
       "\t 3        & Ryan     & 611.00  \\\\\n",
       "\t 4        & Gary     & 729.00  \\\\\n",
       "\t 5        & Michelle & 843.25  \\\\\n",
       "\\end{tabular}\n"
      ],
      "text/markdown": [
       "\n",
       "| id | name | salary |\n",
       "|---|---|---|\n",
       "| 1        | Peter    | 623.30   |\n",
       "| 2        | Amy      | 515.20   |\n",
       "| 3        | Ryan     | 611.00   |\n",
       "| 4        | Gary     | 729.00   |\n",
       "| 5        | Michelle | 843.25   |\n",
       "\n"
      ],
      "text/plain": [
       "  id name     salary\n",
       "1 1  Peter    623.30\n",
       "2 2  Amy      515.20\n",
       "3 3  Ryan     611.00\n",
       "4 4  Gary     729.00\n",
       "5 5  Michelle 843.25"
      ]
     },
     "metadata": {},
     "output_type": "display_data"
    }
   ],
   "source": [
    "#Question 2: \n",
    "#a. Create a data frame like the following table\n",
    "Data_Frame <- data.frame(\n",
    "    id = c(1, 2, 3, 4, 5),\n",
    "    name = c(\"Peter\", \"Amy\", \"Ryan\", \"Gary\", \"Michelle\"),\n",
    "    salary = c(623.30, 515.20, 611.00, 729.00, 843.25)\n",
    ")\n",
    "Data_Frame"
   ]
  },
  {
   "cell_type": "code",
   "execution_count": 4,
   "id": "3c8f22d7",
   "metadata": {},
   "outputs": [
    {
     "data": {
      "text/html": [
       "<table>\n",
       "<thead><tr><th scope=col>id</th><th scope=col>name</th><th scope=col>salary</th><th scope=col>department</th></tr></thead>\n",
       "<tbody>\n",
       "\t<tr><td>1         </td><td>Peter     </td><td>623.30    </td><td>Marketing </td></tr>\n",
       "\t<tr><td>2         </td><td>Amy       </td><td>515.20    </td><td>Accounting</td></tr>\n",
       "\t<tr><td>3         </td><td>Ryan      </td><td>611.00    </td><td>Sales     </td></tr>\n",
       "\t<tr><td>4         </td><td>Gary      </td><td>729.00    </td><td>HR        </td></tr>\n",
       "\t<tr><td>5         </td><td>Michelle  </td><td>843.25    </td><td>Management</td></tr>\n",
       "</tbody>\n",
       "</table>\n"
      ],
      "text/latex": [
       "\\begin{tabular}{r|llll}\n",
       " id & name & salary & department\\\\\n",
       "\\hline\n",
       "\t 1          & Peter      & 623.30     & Marketing \\\\\n",
       "\t 2          & Amy        & 515.20     & Accounting\\\\\n",
       "\t 3          & Ryan       & 611.00     & Sales     \\\\\n",
       "\t 4          & Gary       & 729.00     & HR        \\\\\n",
       "\t 5          & Michelle   & 843.25     & Management\\\\\n",
       "\\end{tabular}\n"
      ],
      "text/markdown": [
       "\n",
       "| id | name | salary | department |\n",
       "|---|---|---|---|\n",
       "| 1          | Peter      | 623.30     | Marketing  |\n",
       "| 2          | Amy        | 515.20     | Accounting |\n",
       "| 3          | Ryan       | 611.00     | Sales      |\n",
       "| 4          | Gary       | 729.00     | HR         |\n",
       "| 5          | Michelle   | 843.25     | Management |\n",
       "\n"
      ],
      "text/plain": [
       "  id name     salary department\n",
       "1 1  Peter    623.30 Marketing \n",
       "2 2  Amy      515.20 Accounting\n",
       "3 3  Ryan     611.00 Sales     \n",
       "4 4  Gary     729.00 HR        \n",
       "5 5  Michelle 843.25 Management"
      ]
     },
     "metadata": {},
     "output_type": "display_data"
    }
   ],
   "source": [
    "#b. Then add a column of “department”, and assign department names for the 5 persons, for example, \n",
    "#IT, finance, computer science, etc., name your own.\n",
    "Data_Frame <- cbind(Data_Frame, department = c(\"Marketing\", \"Accounting\", \"Sales\", \"HR\", \"Management\"))\n",
    "Data_Frame"
   ]
  },
  {
   "cell_type": "code",
   "execution_count": 5,
   "id": "b202c0e2",
   "metadata": {},
   "outputs": [
    {
     "data": {
      "text/html": [
       "<table>\n",
       "<thead><tr><th></th><th scope=col>name</th><th scope=col>salary</th></tr></thead>\n",
       "<tbody>\n",
       "\t<tr><th scope=row>1</th><td>Peter   </td><td>623.30  </td></tr>\n",
       "\t<tr><th scope=row>3</th><td>Ryan    </td><td>611.00  </td></tr>\n",
       "\t<tr><th scope=row>5</th><td>Michelle</td><td>843.25  </td></tr>\n",
       "</tbody>\n",
       "</table>\n"
      ],
      "text/latex": [
       "\\begin{tabular}{r|ll}\n",
       "  & name & salary\\\\\n",
       "\\hline\n",
       "\t1 & Peter    & 623.30  \\\\\n",
       "\t3 & Ryan     & 611.00  \\\\\n",
       "\t5 & Michelle & 843.25  \\\\\n",
       "\\end{tabular}\n"
      ],
      "text/markdown": [
       "\n",
       "| <!--/--> | name | salary |\n",
       "|---|---|---|\n",
       "| 1 | Peter    | 623.30   |\n",
       "| 3 | Ryan     | 611.00   |\n",
       "| 5 | Michelle | 843.25   |\n",
       "\n"
      ],
      "text/plain": [
       "  name     salary\n",
       "1 Peter    623.30\n",
       "3 Ryan     611.00\n",
       "5 Michelle 843.25"
      ]
     },
     "metadata": {},
     "output_type": "display_data"
    }
   ],
   "source": [
    "#c. Extract 1st, 3rd, and 5th rows, with 2nd and 3rd columns, using c function. \n",
    "Data_Frame[c(1, 3, 5), c(2, 3)]"
   ]
  },
  {
   "cell_type": "code",
   "execution_count": 6,
   "id": "f58eff13",
   "metadata": {},
   "outputs": [
    {
     "data": {
      "image/png": "[encoded data removed]",
      "text/plain": [
       "plot without title"
      ]
     },
     "metadata": {},
     "output_type": "display_data"
    }
   ],
   "source": [
    "#d. plot a bar chart to show the salary of row 1,4,5 and label the bar with people’s name correspondingly. \n",
    "x <- Data_Frame$name[c(1, 4, 5)]\n",
    "y <- Data_Frame$salary[c(1, 4, 5)]\n",
    "barplot(y, names.arg = x)"
   ]
  },
  {
   "cell_type": "code",
   "execution_count": 7,
   "id": "16784a4d",
   "metadata": {},
   "outputs": [
    {
     "data": {
      "text/html": [
       "515.2"
      ],
      "text/latex": [
       "515.2"
      ],
      "text/markdown": [
       "515.2"
      ],
      "text/plain": [
       "[1] 515.2"
      ]
     },
     "metadata": {},
     "output_type": "display_data"
    },
    {
     "data": {
      "text/html": [
       "623.3"
      ],
      "text/latex": [
       "623.3"
      ],
      "text/markdown": [
       "623.3"
      ],
      "text/plain": [
       "[1] 623.3"
      ]
     },
     "metadata": {},
     "output_type": "display_data"
    },
    {
     "data": {
      "text/html": [
       "843.25"
      ],
      "text/latex": [
       "843.25"
      ],
      "text/markdown": [
       "843.25"
      ],
      "text/plain": [
       "[1] 843.25"
      ]
     },
     "metadata": {},
     "output_type": "display_data"
    }
   ],
   "source": [
    "min(Data_Frame$salary)\n",
    "median(Data_Frame$salary)\n",
    "max(Data_Frame$salary)"
   ]
  },
  {
   "cell_type": "code",
   "execution_count": 8,
   "id": "8f1be86b",
   "metadata": {},
   "outputs": [
    {
     "data": {
      "image/png": "[encoded data removed]",
      "text/plain": [
       "Plot with title \"High, Low, and Medium, Salary\""
      ]
     },
     "metadata": {},
     "output_type": "display_data"
    }
   ],
   "source": [
    "#e. plot a pie chart, based on this data framework, only showing the highest salary, lowest salary, and \n",
    "#median salary, give your plot a title, and label each pie.\n",
    "x <- c(min(Data_Frame$salary), median(Data_Frame$salary), max(Data_Frame$salary))\n",
    "mylabel = c(\"Amy\", \"Peter\", \"Michelle\")\n",
    "pie(x, label = mylabel, main = \"High, Low, and Medium, Salary\")"
   ]
  },
  {
   "cell_type": "code",
   "execution_count": 1,
   "id": "cc621892",
   "metadata": {},
   "outputs": [
    {
     "data": {
      "text/html": [
       "<table>\n",
       "<thead><tr><th scope=col>Order.Date</th><th scope=col>Order.ID</th><th scope=col>Payment.Instrument.Type</th><th scope=col>Website</th><th scope=col>Purchase.Order.Number</th><th scope=col>Ordering.Customer.Email</th><th scope=col>Shipment.Date</th><th scope=col>Shipping.Address.Name</th><th scope=col>Shipping.Address.Street.1</th><th scope=col>Shipping.Address.Street.2</th><th scope=col>...</th><th scope=col>Order.Status</th><th scope=col>Carrier.Name...Tracking.Number</th><th scope=col>Subtotal</th><th scope=col>Shipping.Charge</th><th scope=col>Tax.Before.Promotions</th><th scope=col>Total.Promotions</th><th scope=col>Tax.Charged</th><th scope=col>Total.Charged</th><th scope=col>Buyer.Name</th><th scope=col>Group.Name</th></tr></thead>\n",
       "<tbody>\n",
       "\t<tr><td>6/18/2011                        </td><td>105-7622623-3731435              </td><td>Visa - 3242                      </td><td>Amazon.com                       </td><td>NA                               </td><td>zevolf@aol.com                   </td><td>6/22/2011                        </td><td>Parris Cather                    </td><td>1200 BELLE VIEW BLVD APT C2      </td><td>NA                               </td><td>...                              </td><td>Shipped                          </td><td>USPS(9102927003525114940181)     </td><td>$25.38                           </td><td>$3.97                            </td><td>$0.00                            </td><td>$3.97                            </td><td>$0.00                            </td><td>$25.38                           </td><td>Parris Cather                    </td><td>NA                               </td></tr>\n",
       "\t<tr><td>11/25/2012                       </td><td>111-9586569-5457830              </td><td>Visa - 1618                      </td><td>Amazon.com                       </td><td>NA                               </td><td>zevolf@aol.com                   </td><td>11/25/2012                       </td><td>Parris Cather                    </td><td>1200 BELLE VIEW BLVD APT C2      </td><td>NA                               </td><td>...                              </td><td>Shipped                          </td><td>USPS(9102901001302382851638)     </td><td>$19.32                           </td><td>$0.00                            </td><td>$0.00                            </td><td>$0.00                            </td><td>$0.00                            </td><td>$19.32                           </td><td>Parris Cather                    </td><td>NA                               </td></tr>\n",
       "\t<tr><td>3/30/2013                        </td><td>110-5967935-6078667              </td><td>Visa - 1618                      </td><td>Amazon.com                       </td><td>NA                               </td><td>zevolf@aol.com                   </td><td>3/31/2013                        </td><td>Parris Cather                    </td><td>1200 BELLE VIEW BLVD APT C2      </td><td>NA                               </td><td>...                              </td><td>Shipped                          </td><td>USPS(9274897641999821274468)     </td><td>$16.99                           </td><td>$0.00                            </td><td>$0.00                            </td><td>$0.00                            </td><td>$0.00                            </td><td>$16.99                           </td><td>Parris Cather                    </td><td>NA                               </td></tr>\n",
       "\t<tr><td>8/2/2013                         </td><td>110-9244761-2302615              </td><td>Visa - 1618                      </td><td>Amazon.com                       </td><td>NA                               </td><td>zevolf@aol.com                   </td><td>8/3/2013                         </td><td>Parris Cather                    </td><td>1200 BELLE VIEW BLVD APT C2      </td><td>NA                               </td><td>...                              </td><td>Shipped                          </td><td>LASERSHIP(9374889932155103888577)</td><td>$32.36                           </td><td>$0.00                            </td><td>$0.00                            </td><td>$0.00                            </td><td>$0.00                            </td><td>$32.36                           </td><td>Parris Cather                    </td><td>NA                               </td></tr>\n",
       "\t<tr><td>8/29/2013                        </td><td>002-0047083-3392265              </td><td>Visa - 1618                      </td><td>Amazon.com                       </td><td>NA                               </td><td>zevolf@aol.com                   </td><td>8/31/2013                        </td><td>Parris Cather                    </td><td>1200 BELLE VIEW BLVD APT C2      </td><td>NA                               </td><td>...                              </td><td>Shipped                          </td><td>LASERSHIP(LL15319113)            </td><td>$20.07                           </td><td>$0.00                            </td><td>$0.00                            </td><td>$0.00                            </td><td>$0.00                            </td><td>$20.07                           </td><td>Parris Cather                    </td><td>NA                               </td></tr>\n",
       "\t<tr><td>12/14/2013                       </td><td>107-8157459-2444238              </td><td>Amazon.com Store Card - 1132     </td><td>Amazon.com                       </td><td>NA                               </td><td>zevolf@aol.com                   </td><td>12/16/2013                       </td><td>Parris Cather                    </td><td>1200 BELLE VIEW BLVD APT C2      </td><td>NA                               </td><td>...                              </td><td>Shipped                          </td><td>UPS(1Z85V8370355648790)          </td><td>$13.98                           </td><td>$0.00                            </td><td>$0.84                            </td><td>$0.00                            </td><td>$0.84                            </td><td>$14.82                           </td><td>Parris Cather                    </td><td>NA                               </td></tr>\n",
       "</tbody>\n",
       "</table>\n"
      ],
      "text/latex": [
       "\\begin{tabular}{r|lllllllllllllllllllllll}\n",
       " Order.Date & Order.ID & Payment.Instrument.Type & Website & Purchase.Order.Number & Ordering.Customer.Email & Shipment.Date & Shipping.Address.Name & Shipping.Address.Street.1 & Shipping.Address.Street.2 & ... & Order.Status & Carrier.Name...Tracking.Number & Subtotal & Shipping.Charge & Tax.Before.Promotions & Total.Promotions & Tax.Charged & Total.Charged & Buyer.Name & Group.Name\\\\\n",
       "\\hline\n",
       "\t 6/18/2011                         & 105-7622623-3731435               & Visa - 3242                       & Amazon.com                        & NA                                & zevolf@aol.com                    & 6/22/2011                         & Parris Cather                     & 1200 BELLE VIEW BLVD APT C2       & NA                                & ...                               & Shipped                           & USPS(9102927003525114940181)      & \\$25.38                          & \\$3.97                           & \\$0.00                           & \\$3.97                           & \\$0.00                           & \\$25.38                          & Parris Cather                     & NA                               \\\\\n",
       "\t 11/25/2012                        & 111-9586569-5457830               & Visa - 1618                       & Amazon.com                        & NA                                & zevolf@aol.com                    & 11/25/2012                        & Parris Cather                     & 1200 BELLE VIEW BLVD APT C2       & NA                                & ...                               & Shipped                           & USPS(9102901001302382851638)      & \\$19.32                          & \\$0.00                           & \\$0.00                           & \\$0.00                           & \\$0.00                           & \\$19.32                          & Parris Cather                     & NA                               \\\\\n",
       "\t 3/30/2013                         & 110-5967935-6078667               & Visa - 1618                       & Amazon.com                        & NA                                & zevolf@aol.com                    & 3/31/2013                         & Parris Cather                     & 1200 BELLE VIEW BLVD APT C2       & NA                                & ...                               & Shipped                           & USPS(9274897641999821274468)      & \\$16.99                          & \\$0.00                           & \\$0.00                           & \\$0.00                           & \\$0.00                           & \\$16.99                          & Parris Cather                     & NA                               \\\\\n",
       "\t 8/2/2013                          & 110-9244761-2302615               & Visa - 1618                       & Amazon.com                        & NA                                & zevolf@aol.com                    & 8/3/2013                          & Parris Cather                     & 1200 BELLE VIEW BLVD APT C2       & NA                                & ...                               & Shipped                           & LASERSHIP(9374889932155103888577) & \\$32.36                          & \\$0.00                           & \\$0.00                           & \\$0.00                           & \\$0.00                           & \\$32.36                          & Parris Cather                     & NA                               \\\\\n",
       "\t 8/29/2013                         & 002-0047083-3392265               & Visa - 1618                       & Amazon.com                        & NA                                & zevolf@aol.com                    & 8/31/2013                         & Parris Cather                     & 1200 BELLE VIEW BLVD APT C2       & NA                                & ...                               & Shipped                           & LASERSHIP(LL15319113)             & \\$20.07                          & \\$0.00                           & \\$0.00                           & \\$0.00                           & \\$0.00                           & \\$20.07                          & Parris Cather                     & NA                               \\\\\n",
       "\t 12/14/2013                        & 107-8157459-2444238               & Amazon.com Store Card - 1132      & Amazon.com                        & NA                                & zevolf@aol.com                    & 12/16/2013                        & Parris Cather                     & 1200 BELLE VIEW BLVD APT C2       & NA                                & ...                               & Shipped                           & UPS(1Z85V8370355648790)           & \\$13.98                          & \\$0.00                           & \\$0.84                           & \\$0.00                           & \\$0.84                           & \\$14.82                          & Parris Cather                     & NA                               \\\\\n",
       "\\end{tabular}\n"
      ],
      "text/markdown": [
       "\n",
       "| Order.Date | Order.ID | Payment.Instrument.Type | Website | Purchase.Order.Number | Ordering.Customer.Email | Shipment.Date | Shipping.Address.Name | Shipping.Address.Street.1 | Shipping.Address.Street.2 | ... | Order.Status | Carrier.Name...Tracking.Number | Subtotal | Shipping.Charge | Tax.Before.Promotions | Total.Promotions | Tax.Charged | Total.Charged | Buyer.Name | Group.Name |\n",
       "|---|---|---|---|---|---|---|---|---|---|---|---|---|---|---|---|---|---|---|---|---|\n",
       "| 6/18/2011                         | 105-7622623-3731435               | Visa - 3242                       | Amazon.com                        | NA                                | zevolf@aol.com                    | 6/22/2011                         | Parris Cather                     | 1200 BELLE VIEW BLVD APT C2       | NA                                | ...                               | Shipped                           | USPS(9102927003525114940181)      | $25.38                            | $3.97                             | $0.00                             | $3.97                             | $0.00                             | $25.38                            | Parris Cather                     | NA                                |\n",
       "| 11/25/2012                        | 111-9586569-5457830               | Visa - 1618                       | Amazon.com                        | NA                                | zevolf@aol.com                    | 11/25/2012                        | Parris Cather                     | 1200 BELLE VIEW BLVD APT C2       | NA                                | ...                               | Shipped                           | USPS(9102901001302382851638)      | $19.32                            | $0.00                             | $0.00                             | $0.00                             | $0.00                             | $19.32                            | Parris Cather                     | NA                                |\n",
       "| 3/30/2013                         | 110-5967935-6078667               | Visa - 1618                       | Amazon.com                        | NA                                | zevolf@aol.com                    | 3/31/2013                         | Parris Cather                     | 1200 BELLE VIEW BLVD APT C2       | NA                                | ...                               | Shipped                           | USPS(9274897641999821274468)      | $16.99                            | $0.00                             | $0.00                             | $0.00                             | $0.00                             | $16.99                            | Parris Cather                     | NA                                |\n",
       "| 8/2/2013                          | 110-9244761-2302615               | Visa - 1618                       | Amazon.com                        | NA                                | zevolf@aol.com                    | 8/3/2013                          | Parris Cather                     | 1200 BELLE VIEW BLVD APT C2       | NA                                | ...                               | Shipped                           | LASERSHIP(9374889932155103888577) | $32.36                            | $0.00                             | $0.00                             | $0.00                             | $0.00                             | $32.36                            | Parris Cather                     | NA                                |\n",
       "| 8/29/2013                         | 002-0047083-3392265               | Visa - 1618                       | Amazon.com                        | NA                                | zevolf@aol.com                    | 8/31/2013                         | Parris Cather                     | 1200 BELLE VIEW BLVD APT C2       | NA                                | ...                               | Shipped                           | LASERSHIP(LL15319113)             | $20.07                            | $0.00                             | $0.00                             | $0.00                             | $0.00                             | $20.07                            | Parris Cather                     | NA                                |\n",
       "| 12/14/2013                        | 107-8157459-2444238               | Amazon.com Store Card - 1132      | Amazon.com                        | NA                                | zevolf@aol.com                    | 12/16/2013                        | Parris Cather                     | 1200 BELLE VIEW BLVD APT C2       | NA                                | ...                               | Shipped                           | UPS(1Z85V8370355648790)           | $13.98                            | $0.00                             | $0.84                             | $0.00                             | $0.84                             | $14.82                            | Parris Cather                     | NA                                |\n",
       "\n"
      ],
      "text/plain": [
       "  Order.Date Order.ID            Payment.Instrument.Type      Website   \n",
       "1 6/18/2011  105-7622623-3731435 Visa - 3242                  Amazon.com\n",
       "2 11/25/2012 111-9586569-5457830 Visa - 1618                  Amazon.com\n",
       "3 3/30/2013  110-5967935-6078667 Visa - 1618                  Amazon.com\n",
       "4 8/2/2013   110-9244761-2302615 Visa - 1618                  Amazon.com\n",
       "5 8/29/2013  002-0047083-3392265 Visa - 1618                  Amazon.com\n",
       "6 12/14/2013 107-8157459-2444238 Amazon.com Store Card - 1132 Amazon.com\n",
       "  Purchase.Order.Number Ordering.Customer.Email Shipment.Date\n",
       "1 NA                    zevolf@aol.com          6/22/2011    \n",
       "2 NA                    zevolf@aol.com          11/25/2012   \n",
       "3 NA                    zevolf@aol.com          3/31/2013    \n",
       "4 NA                    zevolf@aol.com          8/3/2013     \n",
       "5 NA                    zevolf@aol.com          8/31/2013    \n",
       "6 NA                    zevolf@aol.com          12/16/2013   \n",
       "  Shipping.Address.Name Shipping.Address.Street.1   Shipping.Address.Street.2\n",
       "1 Parris Cather         1200 BELLE VIEW BLVD APT C2 NA                       \n",
       "2 Parris Cather         1200 BELLE VIEW BLVD APT C2 NA                       \n",
       "3 Parris Cather         1200 BELLE VIEW BLVD APT C2 NA                       \n",
       "4 Parris Cather         1200 BELLE VIEW BLVD APT C2 NA                       \n",
       "5 Parris Cather         1200 BELLE VIEW BLVD APT C2 NA                       \n",
       "6 Parris Cather         1200 BELLE VIEW BLVD APT C2 NA                       \n",
       "  ... Order.Status Carrier.Name...Tracking.Number    Subtotal Shipping.Charge\n",
       "1 ... Shipped      USPS(9102927003525114940181)      $25.38   $3.97          \n",
       "2 ... Shipped      USPS(9102901001302382851638)      $19.32   $0.00          \n",
       "3 ... Shipped      USPS(9274897641999821274468)      $16.99   $0.00          \n",
       "4 ... Shipped      LASERSHIP(9374889932155103888577) $32.36   $0.00          \n",
       "5 ... Shipped      LASERSHIP(LL15319113)             $20.07   $0.00          \n",
       "6 ... Shipped      UPS(1Z85V8370355648790)           $13.98   $0.00          \n",
       "  Tax.Before.Promotions Total.Promotions Tax.Charged Total.Charged\n",
       "1 $0.00                 $3.97            $0.00       $25.38       \n",
       "2 $0.00                 $0.00            $0.00       $19.32       \n",
       "3 $0.00                 $0.00            $0.00       $16.99       \n",
       "4 $0.00                 $0.00            $0.00       $32.36       \n",
       "5 $0.00                 $0.00            $0.00       $20.07       \n",
       "6 $0.84                 $0.00            $0.84       $14.82       \n",
       "  Buyer.Name    Group.Name\n",
       "1 Parris Cather NA        \n",
       "2 Parris Cather NA        \n",
       "3 Parris Cather NA        \n",
       "4 Parris Cather NA        \n",
       "5 Parris Cather NA        \n",
       "6 Parris Cather NA        "
      ]
     },
     "metadata": {},
     "output_type": "display_data"
    }
   ],
   "source": [
    "#Question 3: This question is the same with our midterm project. You may translate your Python code into R.\n",
    "df <- read.csv('All-Amazon-Orders.csv') #read file\n",
    "head(df)"
   ]
  },
  {
   "cell_type": "code",
   "execution_count": 2,
   "id": "1681db7b",
   "metadata": {},
   "outputs": [
    {
     "data": {
      "text/html": [
       "<ol class=list-inline>\n",
       "\t<li>434</li>\n",
       "\t<li>23</li>\n",
       "</ol>\n"
      ],
      "text/latex": [
       "\\begin{enumerate*}\n",
       "\\item 434\n",
       "\\item 23\n",
       "\\end{enumerate*}\n"
      ],
      "text/markdown": [
       "1. 434\n",
       "2. 23\n",
       "\n",
       "\n"
      ],
      "text/plain": [
       "[1] 434  23"
      ]
     },
     "metadata": {},
     "output_type": "display_data"
    }
   ],
   "source": [
    "dim(df)"
   ]
  },
  {
   "cell_type": "code",
   "execution_count": 3,
   "id": "b017325d",
   "metadata": {},
   "outputs": [
    {
     "data": {
      "text/html": [
       "<table>\n",
       "<thead><tr><th scope=col>Order.Date</th><th scope=col>Order.ID</th><th scope=col>Payment.Instrument.Type</th><th scope=col>Website</th><th scope=col>Purchase.Order.Number</th><th scope=col>Ordering.Customer.Email</th><th scope=col>Shipment.Date</th><th scope=col>Shipping.Address.Name</th><th scope=col>Shipping.Address.Street.1</th><th scope=col>Shipping.Address.Street.2</th><th scope=col>...</th><th scope=col>Order.Status</th><th scope=col>Carrier.Name...Tracking.Number</th><th scope=col>Subtotal</th><th scope=col>Shipping.Charge</th><th scope=col>Tax.Before.Promotions</th><th scope=col>Total.Promotions</th><th scope=col>Tax.Charged</th><th scope=col>Total.Charged</th><th scope=col>Buyer.Name</th><th scope=col>Group.Name</th></tr></thead>\n",
       "<tbody>\n",
       "\t<tr><td>6/18/2011                        </td><td>105-7622623-3731435              </td><td>Visa - 3242                      </td><td>Amazon.com                       </td><td>0                                </td><td>zevolf@aol.com                   </td><td>6/22/2011                        </td><td>Parris Cather                    </td><td>1200 BELLE VIEW BLVD APT C2      </td><td>0                                </td><td>...                              </td><td>Shipped                          </td><td>USPS(9102927003525114940181)     </td><td>$25.38                           </td><td>$3.97                            </td><td>$0.00                            </td><td>$3.97                            </td><td>$0.00                            </td><td>$25.38                           </td><td>Parris Cather                    </td><td>0                                </td></tr>\n",
       "\t<tr><td>11/25/2012                       </td><td>111-9586569-5457830              </td><td>Visa - 1618                      </td><td>Amazon.com                       </td><td>0                                </td><td>zevolf@aol.com                   </td><td>11/25/2012                       </td><td>Parris Cather                    </td><td>1200 BELLE VIEW BLVD APT C2      </td><td>0                                </td><td>...                              </td><td>Shipped                          </td><td>USPS(9102901001302382851638)     </td><td>$19.32                           </td><td>$0.00                            </td><td>$0.00                            </td><td>$0.00                            </td><td>$0.00                            </td><td>$19.32                           </td><td>Parris Cather                    </td><td>0                                </td></tr>\n",
       "\t<tr><td>3/30/2013                        </td><td>110-5967935-6078667              </td><td>Visa - 1618                      </td><td>Amazon.com                       </td><td>0                                </td><td>zevolf@aol.com                   </td><td>3/31/2013                        </td><td>Parris Cather                    </td><td>1200 BELLE VIEW BLVD APT C2      </td><td>0                                </td><td>...                              </td><td>Shipped                          </td><td>USPS(9274897641999821274468)     </td><td>$16.99                           </td><td>$0.00                            </td><td>$0.00                            </td><td>$0.00                            </td><td>$0.00                            </td><td>$16.99                           </td><td>Parris Cather                    </td><td>0                                </td></tr>\n",
       "\t<tr><td>8/2/2013                         </td><td>110-9244761-2302615              </td><td>Visa - 1618                      </td><td>Amazon.com                       </td><td>0                                </td><td>zevolf@aol.com                   </td><td>8/3/2013                         </td><td>Parris Cather                    </td><td>1200 BELLE VIEW BLVD APT C2      </td><td>0                                </td><td>...                              </td><td>Shipped                          </td><td>LASERSHIP(9374889932155103888577)</td><td>$32.36                           </td><td>$0.00                            </td><td>$0.00                            </td><td>$0.00                            </td><td>$0.00                            </td><td>$32.36                           </td><td>Parris Cather                    </td><td>0                                </td></tr>\n",
       "\t<tr><td>8/29/2013                        </td><td>002-0047083-3392265              </td><td>Visa - 1618                      </td><td>Amazon.com                       </td><td>0                                </td><td>zevolf@aol.com                   </td><td>8/31/2013                        </td><td>Parris Cather                    </td><td>1200 BELLE VIEW BLVD APT C2      </td><td>0                                </td><td>...                              </td><td>Shipped                          </td><td>LASERSHIP(LL15319113)            </td><td>$20.07                           </td><td>$0.00                            </td><td>$0.00                            </td><td>$0.00                            </td><td>$0.00                            </td><td>$20.07                           </td><td>Parris Cather                    </td><td>0                                </td></tr>\n",
       "\t<tr><td>12/14/2013                       </td><td>107-8157459-2444238              </td><td>Amazon.com Store Card - 1132     </td><td>Amazon.com                       </td><td>0                                </td><td>zevolf@aol.com                   </td><td>12/16/2013                       </td><td>Parris Cather                    </td><td>1200 BELLE VIEW BLVD APT C2      </td><td>0                                </td><td>...                              </td><td>Shipped                          </td><td>UPS(1Z85V8370355648790)          </td><td>$13.98                           </td><td>$0.00                            </td><td>$0.84                            </td><td>$0.00                            </td><td>$0.84                            </td><td>$14.82                           </td><td>Parris Cather                    </td><td>0                                </td></tr>\n",
       "</tbody>\n",
       "</table>\n"
      ],
      "text/latex": [
       "\\begin{tabular}{r|lllllllllllllllllllllll}\n",
       " Order.Date & Order.ID & Payment.Instrument.Type & Website & Purchase.Order.Number & Ordering.Customer.Email & Shipment.Date & Shipping.Address.Name & Shipping.Address.Street.1 & Shipping.Address.Street.2 & ... & Order.Status & Carrier.Name...Tracking.Number & Subtotal & Shipping.Charge & Tax.Before.Promotions & Total.Promotions & Tax.Charged & Total.Charged & Buyer.Name & Group.Name\\\\\n",
       "\\hline\n",
       "\t 6/18/2011                         & 105-7622623-3731435               & Visa - 3242                       & Amazon.com                        & 0                                 & zevolf@aol.com                    & 6/22/2011                         & Parris Cather                     & 1200 BELLE VIEW BLVD APT C2       & 0                                 & ...                               & Shipped                           & USPS(9102927003525114940181)      & \\$25.38                          & \\$3.97                           & \\$0.00                           & \\$3.97                           & \\$0.00                           & \\$25.38                          & Parris Cather                     & 0                                \\\\\n",
       "\t 11/25/2012                        & 111-9586569-5457830               & Visa - 1618                       & Amazon.com                        & 0                                 & zevolf@aol.com                    & 11/25/2012                        & Parris Cather                     & 1200 BELLE VIEW BLVD APT C2       & 0                                 & ...                               & Shipped                           & USPS(9102901001302382851638)      & \\$19.32                          & \\$0.00                           & \\$0.00                           & \\$0.00                           & \\$0.00                           & \\$19.32                          & Parris Cather                     & 0                                \\\\\n",
       "\t 3/30/2013                         & 110-5967935-6078667               & Visa - 1618                       & Amazon.com                        & 0                                 & zevolf@aol.com                    & 3/31/2013                         & Parris Cather                     & 1200 BELLE VIEW BLVD APT C2       & 0                                 & ...                               & Shipped                           & USPS(9274897641999821274468)      & \\$16.99                          & \\$0.00                           & \\$0.00                           & \\$0.00                           & \\$0.00                           & \\$16.99                          & Parris Cather                     & 0                                \\\\\n",
       "\t 8/2/2013                          & 110-9244761-2302615               & Visa - 1618                       & Amazon.com                        & 0                                 & zevolf@aol.com                    & 8/3/2013                          & Parris Cather                     & 1200 BELLE VIEW BLVD APT C2       & 0                                 & ...                               & Shipped                           & LASERSHIP(9374889932155103888577) & \\$32.36                          & \\$0.00                           & \\$0.00                           & \\$0.00                           & \\$0.00                           & \\$32.36                          & Parris Cather                     & 0                                \\\\\n",
       "\t 8/29/2013                         & 002-0047083-3392265               & Visa - 1618                       & Amazon.com                        & 0                                 & zevolf@aol.com                    & 8/31/2013                         & Parris Cather                     & 1200 BELLE VIEW BLVD APT C2       & 0                                 & ...                               & Shipped                           & LASERSHIP(LL15319113)             & \\$20.07                          & \\$0.00                           & \\$0.00                           & \\$0.00                           & \\$0.00                           & \\$20.07                          & Parris Cather                     & 0                                \\\\\n",
       "\t 12/14/2013                        & 107-8157459-2444238               & Amazon.com Store Card - 1132      & Amazon.com                        & 0                                 & zevolf@aol.com                    & 12/16/2013                        & Parris Cather                     & 1200 BELLE VIEW BLVD APT C2       & 0                                 & ...                               & Shipped                           & UPS(1Z85V8370355648790)           & \\$13.98                          & \\$0.00                           & \\$0.84                           & \\$0.00                           & \\$0.84                           & \\$14.82                          & Parris Cather                     & 0                                \\\\\n",
       "\\end{tabular}\n"
      ],
      "text/markdown": [
       "\n",
       "| Order.Date | Order.ID | Payment.Instrument.Type | Website | Purchase.Order.Number | Ordering.Customer.Email | Shipment.Date | Shipping.Address.Name | Shipping.Address.Street.1 | Shipping.Address.Street.2 | ... | Order.Status | Carrier.Name...Tracking.Number | Subtotal | Shipping.Charge | Tax.Before.Promotions | Total.Promotions | Tax.Charged | Total.Charged | Buyer.Name | Group.Name |\n",
       "|---|---|---|---|---|---|---|---|---|---|---|---|---|---|---|---|---|---|---|---|---|\n",
       "| 6/18/2011                         | 105-7622623-3731435               | Visa - 3242                       | Amazon.com                        | 0                                 | zevolf@aol.com                    | 6/22/2011                         | Parris Cather                     | 1200 BELLE VIEW BLVD APT C2       | 0                                 | ...                               | Shipped                           | USPS(9102927003525114940181)      | $25.38                            | $3.97                             | $0.00                             | $3.97                             | $0.00                             | $25.38                            | Parris Cather                     | 0                                 |\n",
       "| 11/25/2012                        | 111-9586569-5457830               | Visa - 1618                       | Amazon.com                        | 0                                 | zevolf@aol.com                    | 11/25/2012                        | Parris Cather                     | 1200 BELLE VIEW BLVD APT C2       | 0                                 | ...                               | Shipped                           | USPS(9102901001302382851638)      | $19.32                            | $0.00                             | $0.00                             | $0.00                             | $0.00                             | $19.32                            | Parris Cather                     | 0                                 |\n",
       "| 3/30/2013                         | 110-5967935-6078667               | Visa - 1618                       | Amazon.com                        | 0                                 | zevolf@aol.com                    | 3/31/2013                         | Parris Cather                     | 1200 BELLE VIEW BLVD APT C2       | 0                                 | ...                               | Shipped                           | USPS(9274897641999821274468)      | $16.99                            | $0.00                             | $0.00                             | $0.00                             | $0.00                             | $16.99                            | Parris Cather                     | 0                                 |\n",
       "| 8/2/2013                          | 110-9244761-2302615               | Visa - 1618                       | Amazon.com                        | 0                                 | zevolf@aol.com                    | 8/3/2013                          | Parris Cather                     | 1200 BELLE VIEW BLVD APT C2       | 0                                 | ...                               | Shipped                           | LASERSHIP(9374889932155103888577) | $32.36                            | $0.00                             | $0.00                             | $0.00                             | $0.00                             | $32.36                            | Parris Cather                     | 0                                 |\n",
       "| 8/29/2013                         | 002-0047083-3392265               | Visa - 1618                       | Amazon.com                        | 0                                 | zevolf@aol.com                    | 8/31/2013                         | Parris Cather                     | 1200 BELLE VIEW BLVD APT C2       | 0                                 | ...                               | Shipped                           | LASERSHIP(LL15319113)             | $20.07                            | $0.00                             | $0.00                             | $0.00                             | $0.00                             | $20.07                            | Parris Cather                     | 0                                 |\n",
       "| 12/14/2013                        | 107-8157459-2444238               | Amazon.com Store Card - 1132      | Amazon.com                        | 0                                 | zevolf@aol.com                    | 12/16/2013                        | Parris Cather                     | 1200 BELLE VIEW BLVD APT C2       | 0                                 | ...                               | Shipped                           | UPS(1Z85V8370355648790)           | $13.98                            | $0.00                             | $0.84                             | $0.00                             | $0.84                             | $14.82                            | Parris Cather                     | 0                                 |\n",
       "\n"
      ],
      "text/plain": [
       "  Order.Date Order.ID            Payment.Instrument.Type      Website   \n",
       "1 6/18/2011  105-7622623-3731435 Visa - 3242                  Amazon.com\n",
       "2 11/25/2012 111-9586569-5457830 Visa - 1618                  Amazon.com\n",
       "3 3/30/2013  110-5967935-6078667 Visa - 1618                  Amazon.com\n",
       "4 8/2/2013   110-9244761-2302615 Visa - 1618                  Amazon.com\n",
       "5 8/29/2013  002-0047083-3392265 Visa - 1618                  Amazon.com\n",
       "6 12/14/2013 107-8157459-2444238 Amazon.com Store Card - 1132 Amazon.com\n",
       "  Purchase.Order.Number Ordering.Customer.Email Shipment.Date\n",
       "1 0                     zevolf@aol.com          6/22/2011    \n",
       "2 0                     zevolf@aol.com          11/25/2012   \n",
       "3 0                     zevolf@aol.com          3/31/2013    \n",
       "4 0                     zevolf@aol.com          8/3/2013     \n",
       "5 0                     zevolf@aol.com          8/31/2013    \n",
       "6 0                     zevolf@aol.com          12/16/2013   \n",
       "  Shipping.Address.Name Shipping.Address.Street.1   Shipping.Address.Street.2\n",
       "1 Parris Cather         1200 BELLE VIEW BLVD APT C2 0                        \n",
       "2 Parris Cather         1200 BELLE VIEW BLVD APT C2 0                        \n",
       "3 Parris Cather         1200 BELLE VIEW BLVD APT C2 0                        \n",
       "4 Parris Cather         1200 BELLE VIEW BLVD APT C2 0                        \n",
       "5 Parris Cather         1200 BELLE VIEW BLVD APT C2 0                        \n",
       "6 Parris Cather         1200 BELLE VIEW BLVD APT C2 0                        \n",
       "  ... Order.Status Carrier.Name...Tracking.Number    Subtotal Shipping.Charge\n",
       "1 ... Shipped      USPS(9102927003525114940181)      $25.38   $3.97          \n",
       "2 ... Shipped      USPS(9102901001302382851638)      $19.32   $0.00          \n",
       "3 ... Shipped      USPS(9274897641999821274468)      $16.99   $0.00          \n",
       "4 ... Shipped      LASERSHIP(9374889932155103888577) $32.36   $0.00          \n",
       "5 ... Shipped      LASERSHIP(LL15319113)             $20.07   $0.00          \n",
       "6 ... Shipped      UPS(1Z85V8370355648790)           $13.98   $0.00          \n",
       "  Tax.Before.Promotions Total.Promotions Tax.Charged Total.Charged\n",
       "1 $0.00                 $3.97            $0.00       $25.38       \n",
       "2 $0.00                 $0.00            $0.00       $19.32       \n",
       "3 $0.00                 $0.00            $0.00       $16.99       \n",
       "4 $0.00                 $0.00            $0.00       $32.36       \n",
       "5 $0.00                 $0.00            $0.00       $20.07       \n",
       "6 $0.84                 $0.00            $0.84       $14.82       \n",
       "  Buyer.Name    Group.Name\n",
       "1 Parris Cather 0         \n",
       "2 Parris Cather 0         \n",
       "3 Parris Cather 0         \n",
       "4 Parris Cather 0         \n",
       "5 Parris Cather 0         \n",
       "6 Parris Cather 0         "
      ]
     },
     "metadata": {},
     "output_type": "display_data"
    }
   ],
   "source": [
    "df[is.na(df)] <- 0 #fill missing values (na) with zero\n",
    "head(df)"
   ]
  },
  {
   "cell_type": "code",
   "execution_count": 4,
   "id": "cd06b107",
   "metadata": {},
   "outputs": [
    {
     "data": {
      "text/html": [
       "<ol class=list-inline>\n",
       "\t<li>'Order.Date'</li>\n",
       "\t<li>'Order.ID'</li>\n",
       "\t<li>'Payment.Instrument.Type'</li>\n",
       "\t<li>'Website'</li>\n",
       "\t<li>'Purchase.Order.Number'</li>\n",
       "\t<li>'Ordering.Customer.Email'</li>\n",
       "\t<li>'Shipment.Date'</li>\n",
       "\t<li>'Shipping.Address.Name'</li>\n",
       "\t<li>'Shipping.Address.Street.1'</li>\n",
       "\t<li>'Shipping.Address.Street.2'</li>\n",
       "\t<li>'Shipping.Address.City'</li>\n",
       "\t<li>'Shipping.Address.State'</li>\n",
       "\t<li>'Shipping.Address.Zip'</li>\n",
       "\t<li>'Order.Status'</li>\n",
       "\t<li>'Carrier.Name...Tracking.Number'</li>\n",
       "\t<li>'Subtotal'</li>\n",
       "\t<li>'Shipping.Charge'</li>\n",
       "\t<li>'Tax.Before.Promotions'</li>\n",
       "\t<li>'Total.Promotions'</li>\n",
       "\t<li>'Tax.Charged'</li>\n",
       "\t<li>'Total.Charged'</li>\n",
       "\t<li>'Buyer.Name'</li>\n",
       "\t<li>'Group.Name'</li>\n",
       "</ol>\n"
      ],
      "text/latex": [
       "\\begin{enumerate*}\n",
       "\\item 'Order.Date'\n",
       "\\item 'Order.ID'\n",
       "\\item 'Payment.Instrument.Type'\n",
       "\\item 'Website'\n",
       "\\item 'Purchase.Order.Number'\n",
       "\\item 'Ordering.Customer.Email'\n",
       "\\item 'Shipment.Date'\n",
       "\\item 'Shipping.Address.Name'\n",
       "\\item 'Shipping.Address.Street.1'\n",
       "\\item 'Shipping.Address.Street.2'\n",
       "\\item 'Shipping.Address.City'\n",
       "\\item 'Shipping.Address.State'\n",
       "\\item 'Shipping.Address.Zip'\n",
       "\\item 'Order.Status'\n",
       "\\item 'Carrier.Name...Tracking.Number'\n",
       "\\item 'Subtotal'\n",
       "\\item 'Shipping.Charge'\n",
       "\\item 'Tax.Before.Promotions'\n",
       "\\item 'Total.Promotions'\n",
       "\\item 'Tax.Charged'\n",
       "\\item 'Total.Charged'\n",
       "\\item 'Buyer.Name'\n",
       "\\item 'Group.Name'\n",
       "\\end{enumerate*}\n"
      ],
      "text/markdown": [
       "1. 'Order.Date'\n",
       "2. 'Order.ID'\n",
       "3. 'Payment.Instrument.Type'\n",
       "4. 'Website'\n",
       "5. 'Purchase.Order.Number'\n",
       "6. 'Ordering.Customer.Email'\n",
       "7. 'Shipment.Date'\n",
       "8. 'Shipping.Address.Name'\n",
       "9. 'Shipping.Address.Street.1'\n",
       "10. 'Shipping.Address.Street.2'\n",
       "11. 'Shipping.Address.City'\n",
       "12. 'Shipping.Address.State'\n",
       "13. 'Shipping.Address.Zip'\n",
       "14. 'Order.Status'\n",
       "15. 'Carrier.Name...Tracking.Number'\n",
       "16. 'Subtotal'\n",
       "17. 'Shipping.Charge'\n",
       "18. 'Tax.Before.Promotions'\n",
       "19. 'Total.Promotions'\n",
       "20. 'Tax.Charged'\n",
       "21. 'Total.Charged'\n",
       "22. 'Buyer.Name'\n",
       "23. 'Group.Name'\n",
       "\n",
       "\n"
      ],
      "text/plain": [
       " [1] \"Order.Date\"                     \"Order.ID\"                      \n",
       " [3] \"Payment.Instrument.Type\"        \"Website\"                       \n",
       " [5] \"Purchase.Order.Number\"          \"Ordering.Customer.Email\"       \n",
       " [7] \"Shipment.Date\"                  \"Shipping.Address.Name\"         \n",
       " [9] \"Shipping.Address.Street.1\"      \"Shipping.Address.Street.2\"     \n",
       "[11] \"Shipping.Address.City\"          \"Shipping.Address.State\"        \n",
       "[13] \"Shipping.Address.Zip\"           \"Order.Status\"                  \n",
       "[15] \"Carrier.Name...Tracking.Number\" \"Subtotal\"                      \n",
       "[17] \"Shipping.Charge\"                \"Tax.Before.Promotions\"         \n",
       "[19] \"Total.Promotions\"               \"Tax.Charged\"                   \n",
       "[21] \"Total.Charged\"                  \"Buyer.Name\"                    \n",
       "[23] \"Group.Name\"                    "
      ]
     },
     "metadata": {},
     "output_type": "display_data"
    }
   ],
   "source": [
    "new_df <- names(df) #new variable that accesses all columns in DataFrame\n",
    "new_df"
   ]
  },
  {
   "cell_type": "code",
   "execution_count": 5,
   "id": "084e0295",
   "metadata": {},
   "outputs": [
    {
     "data": {
      "text/html": [
       "<table>\n",
       "<thead><tr><th scope=col>Order.Date</th><th scope=col>Order.ID</th><th scope=col>Payment.Instrument.Type</th><th scope=col>Website</th><th scope=col>Purchase.Order.Number</th><th scope=col>Ordering.Customer.Email</th><th scope=col>Shipment.Date</th><th scope=col>Shipping.Address.Name</th><th scope=col>Shipping.Address.Street.1</th><th scope=col>Shipping.Address.Street.2</th><th scope=col>...</th><th scope=col>Order.Status</th><th scope=col>Carrier.Name...Tracking.Number</th><th scope=col>Subtotal</th><th scope=col>Shipping.Charge</th><th scope=col>Tax.Before.Promotions</th><th scope=col>Total.Promotions</th><th scope=col>Tax.Charged</th><th scope=col>Total.Charged</th><th scope=col>Buyer.Name</th><th scope=col>Group.Name</th></tr></thead>\n",
       "<tbody>\n",
       "\t<tr><td>6/18/2011                        </td><td>105-7622623-3731435              </td><td>Visa - 3242                      </td><td>Amazon.com                       </td><td>0                                </td><td>zevolf@aol.com                   </td><td>6/22/2011                        </td><td>Parris Cather                    </td><td>1200 BELLE VIEW BLVD APT C2      </td><td>0                                </td><td>...                              </td><td>Shipped                          </td><td>USPS(9102927003525114940181)     </td><td>$25.38                           </td><td>$3.97                            </td><td>$0.00                            </td><td>$3.97                            </td><td>$0.00                            </td><td>25.38                            </td><td>Parris Cather                    </td><td>0                                </td></tr>\n",
       "\t<tr><td>11/25/2012                       </td><td>111-9586569-5457830              </td><td>Visa - 1618                      </td><td>Amazon.com                       </td><td>0                                </td><td>zevolf@aol.com                   </td><td>11/25/2012                       </td><td>Parris Cather                    </td><td>1200 BELLE VIEW BLVD APT C2      </td><td>0                                </td><td>...                              </td><td>Shipped                          </td><td>USPS(9102901001302382851638)     </td><td>$19.32                           </td><td>$0.00                            </td><td>$0.00                            </td><td>$0.00                            </td><td>$0.00                            </td><td>19.32                            </td><td>Parris Cather                    </td><td>0                                </td></tr>\n",
       "\t<tr><td>3/30/2013                        </td><td>110-5967935-6078667              </td><td>Visa - 1618                      </td><td>Amazon.com                       </td><td>0                                </td><td>zevolf@aol.com                   </td><td>3/31/2013                        </td><td>Parris Cather                    </td><td>1200 BELLE VIEW BLVD APT C2      </td><td>0                                </td><td>...                              </td><td>Shipped                          </td><td>USPS(9274897641999821274468)     </td><td>$16.99                           </td><td>$0.00                            </td><td>$0.00                            </td><td>$0.00                            </td><td>$0.00                            </td><td>16.99                            </td><td>Parris Cather                    </td><td>0                                </td></tr>\n",
       "\t<tr><td>8/2/2013                         </td><td>110-9244761-2302615              </td><td>Visa - 1618                      </td><td>Amazon.com                       </td><td>0                                </td><td>zevolf@aol.com                   </td><td>8/3/2013                         </td><td>Parris Cather                    </td><td>1200 BELLE VIEW BLVD APT C2      </td><td>0                                </td><td>...                              </td><td>Shipped                          </td><td>LASERSHIP(9374889932155103888577)</td><td>$32.36                           </td><td>$0.00                            </td><td>$0.00                            </td><td>$0.00                            </td><td>$0.00                            </td><td>32.36                            </td><td>Parris Cather                    </td><td>0                                </td></tr>\n",
       "\t<tr><td>8/29/2013                        </td><td>002-0047083-3392265              </td><td>Visa - 1618                      </td><td>Amazon.com                       </td><td>0                                </td><td>zevolf@aol.com                   </td><td>8/31/2013                        </td><td>Parris Cather                    </td><td>1200 BELLE VIEW BLVD APT C2      </td><td>0                                </td><td>...                              </td><td>Shipped                          </td><td>LASERSHIP(LL15319113)            </td><td>$20.07                           </td><td>$0.00                            </td><td>$0.00                            </td><td>$0.00                            </td><td>$0.00                            </td><td>20.07                            </td><td>Parris Cather                    </td><td>0                                </td></tr>\n",
       "\t<tr><td>12/14/2013                       </td><td>107-8157459-2444238              </td><td>Amazon.com Store Card - 1132     </td><td>Amazon.com                       </td><td>0                                </td><td>zevolf@aol.com                   </td><td>12/16/2013                       </td><td>Parris Cather                    </td><td>1200 BELLE VIEW BLVD APT C2      </td><td>0                                </td><td>...                              </td><td>Shipped                          </td><td>UPS(1Z85V8370355648790)          </td><td>$13.98                           </td><td>$0.00                            </td><td>$0.84                            </td><td>$0.00                            </td><td>$0.84                            </td><td>14.82                            </td><td>Parris Cather                    </td><td>0                                </td></tr>\n",
       "</tbody>\n",
       "</table>\n"
      ],
      "text/latex": [
       "\\begin{tabular}{r|lllllllllllllllllllllll}\n",
       " Order.Date & Order.ID & Payment.Instrument.Type & Website & Purchase.Order.Number & Ordering.Customer.Email & Shipment.Date & Shipping.Address.Name & Shipping.Address.Street.1 & Shipping.Address.Street.2 & ... & Order.Status & Carrier.Name...Tracking.Number & Subtotal & Shipping.Charge & Tax.Before.Promotions & Total.Promotions & Tax.Charged & Total.Charged & Buyer.Name & Group.Name\\\\\n",
       "\\hline\n",
       "\t 6/18/2011                         & 105-7622623-3731435               & Visa - 3242                       & Amazon.com                        & 0                                 & zevolf@aol.com                    & 6/22/2011                         & Parris Cather                     & 1200 BELLE VIEW BLVD APT C2       & 0                                 & ...                               & Shipped                           & USPS(9102927003525114940181)      & \\$25.38                          & \\$3.97                           & \\$0.00                           & \\$3.97                           & \\$0.00                           & 25.38                             & Parris Cather                     & 0                                \\\\\n",
       "\t 11/25/2012                        & 111-9586569-5457830               & Visa - 1618                       & Amazon.com                        & 0                                 & zevolf@aol.com                    & 11/25/2012                        & Parris Cather                     & 1200 BELLE VIEW BLVD APT C2       & 0                                 & ...                               & Shipped                           & USPS(9102901001302382851638)      & \\$19.32                          & \\$0.00                           & \\$0.00                           & \\$0.00                           & \\$0.00                           & 19.32                             & Parris Cather                     & 0                                \\\\\n",
       "\t 3/30/2013                         & 110-5967935-6078667               & Visa - 1618                       & Amazon.com                        & 0                                 & zevolf@aol.com                    & 3/31/2013                         & Parris Cather                     & 1200 BELLE VIEW BLVD APT C2       & 0                                 & ...                               & Shipped                           & USPS(9274897641999821274468)      & \\$16.99                          & \\$0.00                           & \\$0.00                           & \\$0.00                           & \\$0.00                           & 16.99                             & Parris Cather                     & 0                                \\\\\n",
       "\t 8/2/2013                          & 110-9244761-2302615               & Visa - 1618                       & Amazon.com                        & 0                                 & zevolf@aol.com                    & 8/3/2013                          & Parris Cather                     & 1200 BELLE VIEW BLVD APT C2       & 0                                 & ...                               & Shipped                           & LASERSHIP(9374889932155103888577) & \\$32.36                          & \\$0.00                           & \\$0.00                           & \\$0.00                           & \\$0.00                           & 32.36                             & Parris Cather                     & 0                                \\\\\n",
       "\t 8/29/2013                         & 002-0047083-3392265               & Visa - 1618                       & Amazon.com                        & 0                                 & zevolf@aol.com                    & 8/31/2013                         & Parris Cather                     & 1200 BELLE VIEW BLVD APT C2       & 0                                 & ...                               & Shipped                           & LASERSHIP(LL15319113)             & \\$20.07                          & \\$0.00                           & \\$0.00                           & \\$0.00                           & \\$0.00                           & 20.07                             & Parris Cather                     & 0                                \\\\\n",
       "\t 12/14/2013                        & 107-8157459-2444238               & Amazon.com Store Card - 1132      & Amazon.com                        & 0                                 & zevolf@aol.com                    & 12/16/2013                        & Parris Cather                     & 1200 BELLE VIEW BLVD APT C2       & 0                                 & ...                               & Shipped                           & UPS(1Z85V8370355648790)           & \\$13.98                          & \\$0.00                           & \\$0.84                           & \\$0.00                           & \\$0.84                           & 14.82                             & Parris Cather                     & 0                                \\\\\n",
       "\\end{tabular}\n"
      ],
      "text/markdown": [
       "\n",
       "| Order.Date | Order.ID | Payment.Instrument.Type | Website | Purchase.Order.Number | Ordering.Customer.Email | Shipment.Date | Shipping.Address.Name | Shipping.Address.Street.1 | Shipping.Address.Street.2 | ... | Order.Status | Carrier.Name...Tracking.Number | Subtotal | Shipping.Charge | Tax.Before.Promotions | Total.Promotions | Tax.Charged | Total.Charged | Buyer.Name | Group.Name |\n",
       "|---|---|---|---|---|---|---|---|---|---|---|---|---|---|---|---|---|---|---|---|---|\n",
       "| 6/18/2011                         | 105-7622623-3731435               | Visa - 3242                       | Amazon.com                        | 0                                 | zevolf@aol.com                    | 6/22/2011                         | Parris Cather                     | 1200 BELLE VIEW BLVD APT C2       | 0                                 | ...                               | Shipped                           | USPS(9102927003525114940181)      | $25.38                            | $3.97                             | $0.00                             | $3.97                             | $0.00                             | 25.38                             | Parris Cather                     | 0                                 |\n",
       "| 11/25/2012                        | 111-9586569-5457830               | Visa - 1618                       | Amazon.com                        | 0                                 | zevolf@aol.com                    | 11/25/2012                        | Parris Cather                     | 1200 BELLE VIEW BLVD APT C2       | 0                                 | ...                               | Shipped                           | USPS(9102901001302382851638)      | $19.32                            | $0.00                             | $0.00                             | $0.00                             | $0.00                             | 19.32                             | Parris Cather                     | 0                                 |\n",
       "| 3/30/2013                         | 110-5967935-6078667               | Visa - 1618                       | Amazon.com                        | 0                                 | zevolf@aol.com                    | 3/31/2013                         | Parris Cather                     | 1200 BELLE VIEW BLVD APT C2       | 0                                 | ...                               | Shipped                           | USPS(9274897641999821274468)      | $16.99                            | $0.00                             | $0.00                             | $0.00                             | $0.00                             | 16.99                             | Parris Cather                     | 0                                 |\n",
       "| 8/2/2013                          | 110-9244761-2302615               | Visa - 1618                       | Amazon.com                        | 0                                 | zevolf@aol.com                    | 8/3/2013                          | Parris Cather                     | 1200 BELLE VIEW BLVD APT C2       | 0                                 | ...                               | Shipped                           | LASERSHIP(9374889932155103888577) | $32.36                            | $0.00                             | $0.00                             | $0.00                             | $0.00                             | 32.36                             | Parris Cather                     | 0                                 |\n",
       "| 8/29/2013                         | 002-0047083-3392265               | Visa - 1618                       | Amazon.com                        | 0                                 | zevolf@aol.com                    | 8/31/2013                         | Parris Cather                     | 1200 BELLE VIEW BLVD APT C2       | 0                                 | ...                               | Shipped                           | LASERSHIP(LL15319113)             | $20.07                            | $0.00                             | $0.00                             | $0.00                             | $0.00                             | 20.07                             | Parris Cather                     | 0                                 |\n",
       "| 12/14/2013                        | 107-8157459-2444238               | Amazon.com Store Card - 1132      | Amazon.com                        | 0                                 | zevolf@aol.com                    | 12/16/2013                        | Parris Cather                     | 1200 BELLE VIEW BLVD APT C2       | 0                                 | ...                               | Shipped                           | UPS(1Z85V8370355648790)           | $13.98                            | $0.00                             | $0.84                             | $0.00                             | $0.84                             | 14.82                             | Parris Cather                     | 0                                 |\n",
       "\n"
      ],
      "text/plain": [
       "  Order.Date Order.ID            Payment.Instrument.Type      Website   \n",
       "1 6/18/2011  105-7622623-3731435 Visa - 3242                  Amazon.com\n",
       "2 11/25/2012 111-9586569-5457830 Visa - 1618                  Amazon.com\n",
       "3 3/30/2013  110-5967935-6078667 Visa - 1618                  Amazon.com\n",
       "4 8/2/2013   110-9244761-2302615 Visa - 1618                  Amazon.com\n",
       "5 8/29/2013  002-0047083-3392265 Visa - 1618                  Amazon.com\n",
       "6 12/14/2013 107-8157459-2444238 Amazon.com Store Card - 1132 Amazon.com\n",
       "  Purchase.Order.Number Ordering.Customer.Email Shipment.Date\n",
       "1 0                     zevolf@aol.com          6/22/2011    \n",
       "2 0                     zevolf@aol.com          11/25/2012   \n",
       "3 0                     zevolf@aol.com          3/31/2013    \n",
       "4 0                     zevolf@aol.com          8/3/2013     \n",
       "5 0                     zevolf@aol.com          8/31/2013    \n",
       "6 0                     zevolf@aol.com          12/16/2013   \n",
       "  Shipping.Address.Name Shipping.Address.Street.1   Shipping.Address.Street.2\n",
       "1 Parris Cather         1200 BELLE VIEW BLVD APT C2 0                        \n",
       "2 Parris Cather         1200 BELLE VIEW BLVD APT C2 0                        \n",
       "3 Parris Cather         1200 BELLE VIEW BLVD APT C2 0                        \n",
       "4 Parris Cather         1200 BELLE VIEW BLVD APT C2 0                        \n",
       "5 Parris Cather         1200 BELLE VIEW BLVD APT C2 0                        \n",
       "6 Parris Cather         1200 BELLE VIEW BLVD APT C2 0                        \n",
       "  ... Order.Status Carrier.Name...Tracking.Number    Subtotal Shipping.Charge\n",
       "1 ... Shipped      USPS(9102927003525114940181)      $25.38   $3.97          \n",
       "2 ... Shipped      USPS(9102901001302382851638)      $19.32   $0.00          \n",
       "3 ... Shipped      USPS(9274897641999821274468)      $16.99   $0.00          \n",
       "4 ... Shipped      LASERSHIP(9374889932155103888577) $32.36   $0.00          \n",
       "5 ... Shipped      LASERSHIP(LL15319113)             $20.07   $0.00          \n",
       "6 ... Shipped      UPS(1Z85V8370355648790)           $13.98   $0.00          \n",
       "  Tax.Before.Promotions Total.Promotions Tax.Charged Total.Charged\n",
       "1 $0.00                 $3.97            $0.00       25.38        \n",
       "2 $0.00                 $0.00            $0.00       19.32        \n",
       "3 $0.00                 $0.00            $0.00       16.99        \n",
       "4 $0.00                 $0.00            $0.00       32.36        \n",
       "5 $0.00                 $0.00            $0.00       20.07        \n",
       "6 $0.84                 $0.00            $0.84       14.82        \n",
       "  Buyer.Name    Group.Name\n",
       "1 Parris Cather 0         \n",
       "2 Parris Cather 0         \n",
       "3 Parris Cather 0         \n",
       "4 Parris Cather 0         \n",
       "5 Parris Cather 0         \n",
       "6 Parris Cather 0         "
      ]
     },
     "metadata": {},
     "output_type": "display_data"
    }
   ],
   "source": [
    "df$Total.Charged <- gsub(\"\\\\$\", \"\", df$Total.Charged) #replace all $ in DataFrame\n",
    "head(df)"
   ]
  },
  {
   "cell_type": "code",
   "execution_count": 6,
   "id": "a6d2cbf2",
   "metadata": {},
   "outputs": [
    {
     "name": "stdout",
     "output_type": "stream",
     "text": [
      "'data.frame':\t434 obs. of  23 variables:\n",
      " $ Order.Date                    : Factor w/ 241 levels \"1/1/2022\",\"1/11/2021\",..: 169 58 132 204 215 74 74 109 138 138 ...\n",
      " $ Order.ID                      : Factor w/ 375 levels \"002-0047083-3392265\",..: 18 169 57 62 1 52 52 50 24 24 ...\n",
      " $ Payment.Instrument.Type       : Factor w/ 20 levels \"Amazon.com Store Card - 1132\",..: 14 11 11 11 11 1 1 2 12 12 ...\n",
      " $ Website                       : Factor w/ 1 level \"Amazon.com\": 1 1 1 1 1 1 1 1 1 1 ...\n",
      " $ Purchase.Order.Number         : num  0 0 0 0 0 0 0 0 0 0 ...\n",
      " $ Ordering.Customer.Email       : Factor w/ 1 level \"zevolf@aol.com\": 1 1 1 1 1 1 1 1 1 1 ...\n",
      " $ Shipment.Date                 : Factor w/ 293 levels \"1/10/2022\",\"1/12/2021\",..: 212 74 169 252 257 99 97 142 177 174 ...\n",
      " $ Shipping.Address.Name         : Factor w/ 4 levels \"Address unavailable\",..: 3 3 3 3 3 3 3 3 3 3 ...\n",
      " $ Shipping.Address.Street.1     : Factor w/ 5 levels \"\",\"1008 N GLEBE RD APT 1217A\",..: 3 3 3 3 3 3 3 3 3 3 ...\n",
      " $ Shipping.Address.Street.2     : num  0 0 0 0 0 0 0 0 0 0 ...\n",
      " $ Shipping.Address.City         : Factor w/ 3 levels \"\",\"ALEXANDRIA\",..: 2 2 2 2 2 2 2 2 2 2 ...\n",
      " $ Shipping.Address.State        : Factor w/ 3 levels \"\",\"VA\",\"VIRGINIA\": 3 3 3 3 3 3 3 3 3 3 ...\n",
      " $ Shipping.Address.Zip          : Factor w/ 5 levels \"\",\"22201-5655\",..: 5 5 5 5 5 5 5 5 5 5 ...\n",
      " $ Order.Status                  : Factor w/ 1 level \"Shipped\": 1 1 1 1 1 1 1 1 1 1 ...\n",
      " $ Carrier.Name...Tracking.Number: Factor w/ 424 levels \"\",\"Amazon Logistics(TBA031756131901)\",..: 349 348 356 155 157 330 314 158 316 315 ...\n",
      " $ Subtotal                      : Factor w/ 358 levels \"$10.20 \",\"$10.54 \",..: 110 76 55 153 86 32 190 133 81 213 ...\n",
      " $ Shipping.Charge               : Factor w/ 20 levels \"$0.00 \",\"$0.74 \",..: 9 1 1 1 1 1 1 1 1 1 ...\n",
      " $ Tax.Before.Promotions         : Factor w/ 198 levels \"$0.00 \",\"$0.23 \",..: 1 1 1 1 1 41 125 110 66 157 ...\n",
      " $ Total.Promotions              : Factor w/ 34 levels \"$0.00 \",\"$0.32 \",..: 31 1 1 1 1 1 34 1 1 1 ...\n",
      " $ Tax.Charged                   : Factor w/ 198 levels \"$0.00 \",\"$0.23 \",..: 1 1 1 1 1 41 125 110 66 157 ...\n",
      " $ Total.Charged                 : num  25.4 19.3 17 32.4 20.1 ...\n",
      " $ Buyer.Name                    : Factor w/ 1 level \"Parris Cather\": 1 1 1 1 1 1 1 1 1 1 ...\n",
      " $ Group.Name                    : num  0 0 0 0 0 0 0 0 0 0 ...\n"
     ]
    }
   ],
   "source": [
    "df$Total.Charged <- as.double(df$Total.Charged) #convert object to float for analysis\n",
    "str(df)"
   ]
  },
  {
   "cell_type": "code",
   "execution_count": 7,
   "id": "135fa547",
   "metadata": {},
   "outputs": [
    {
     "data": {
      "text/html": [
       "'Total sum is 19763.7'"
      ],
      "text/latex": [
       "'Total sum is 19763.7'"
      ],
      "text/markdown": [
       "'Total sum is 19763.7'"
      ],
      "text/plain": [
       "[1] \"Total sum is 19763.7\""
      ]
     },
     "metadata": {},
     "output_type": "display_data"
    },
    {
     "data": {
      "text/html": [
       "'Total mean is 45.54'"
      ],
      "text/latex": [
       "'Total mean is 45.54'"
      ],
      "text/markdown": [
       "'Total mean is 45.54'"
      ],
      "text/plain": [
       "[1] \"Total mean is 45.54\""
      ]
     },
     "metadata": {},
     "output_type": "display_data"
    },
    {
     "data": {
      "text/html": [
       "'Total median is 34.92'"
      ],
      "text/latex": [
       "'Total median is 34.92'"
      ],
      "text/markdown": [
       "'Total median is 34.92'"
      ],
      "text/plain": [
       "[1] \"Total median is 34.92\""
      ]
     },
     "metadata": {},
     "output_type": "display_data"
    },
    {
     "data": {
      "text/html": [
       "'Total max is 688.99'"
      ],
      "text/latex": [
       "'Total max is 688.99'"
      ],
      "text/markdown": [
       "'Total max is 688.99'"
      ],
      "text/plain": [
       "[1] \"Total max is 688.99\""
      ]
     },
     "metadata": {},
     "output_type": "display_data"
    },
    {
     "data": {
      "text/html": [
       "'Total min is 3.05'"
      ],
      "text/latex": [
       "'Total min is 3.05'"
      ],
      "text/markdown": [
       "'Total min is 3.05'"
      ],
      "text/plain": [
       "[1] \"Total min is 3.05\""
      ]
     },
     "metadata": {},
     "output_type": "display_data"
    },
    {
     "data": {
      "text/html": [
       "'Total sd is 48.95'"
      ],
      "text/latex": [
       "'Total sd is 48.95'"
      ],
      "text/markdown": [
       "'Total sd is 48.95'"
      ],
      "text/plain": [
       "[1] \"Total sd is 48.95\""
      ]
     },
     "metadata": {},
     "output_type": "display_data"
    }
   ],
   "source": [
    "a <- sum(df$Total.Charged)\n",
    "b <- mean(df$Total.Charged)\n",
    "c <- median(df$Total.Charged)\n",
    "d <- max(df$Total.Charged)\n",
    "e <- min(df$Total.Charged)\n",
    "f <- sd(df$Total.Charged)\n",
    "paste('Total sum is', round(a, 2))\n",
    "paste('Total mean is', round(b, 2))\n",
    "paste('Total median is', round(c, 2))\n",
    "paste('Total max is', round(d, 2))\n",
    "paste('Total min is', round(e, 2))\n",
    "paste('Total sd is', round(f, 2))"
   ]
  },
  {
   "cell_type": "code",
   "execution_count": 8,
   "id": "9b1eb9a9",
   "metadata": {},
   "outputs": [
    {
     "data": {
      "text/html": [
       "<table>\n",
       "<thead><tr><th scope=col>Order.Date</th><th scope=col>Order.ID</th><th scope=col>Payment.Instrument.Type</th><th scope=col>Website</th><th scope=col>Purchase.Order.Number</th><th scope=col>Ordering.Customer.Email</th><th scope=col>Shipment.Date</th><th scope=col>Shipping.Address.Name</th><th scope=col>Shipping.Address.Street.1</th><th scope=col>Shipping.Address.Street.2</th><th scope=col>...</th><th scope=col>Order.Status</th><th scope=col>Carrier.Name...Tracking.Number</th><th scope=col>Subtotal</th><th scope=col>Shipping.Charge</th><th scope=col>Tax.Before.Promotions</th><th scope=col>Total.Promotions</th><th scope=col>Tax.Charged</th><th scope=col>Total.Charged</th><th scope=col>Buyer.Name</th><th scope=col>Group.Name</th></tr></thead>\n",
       "<tbody>\n",
       "\t<tr><td>2011-06-18                       </td><td>105-7622623-3731435              </td><td>Visa - 3242                      </td><td>Amazon.com                       </td><td>0                                </td><td>zevolf@aol.com                   </td><td>6/22/2011                        </td><td>Parris Cather                    </td><td>1200 BELLE VIEW BLVD APT C2      </td><td>0                                </td><td>...                              </td><td>Shipped                          </td><td>USPS(9102927003525114940181)     </td><td>$25.38                           </td><td>$3.97                            </td><td>$0.00                            </td><td>$3.97                            </td><td>$0.00                            </td><td>25.38                            </td><td>Parris Cather                    </td><td>0                                </td></tr>\n",
       "\t<tr><td>2012-11-25                       </td><td>111-9586569-5457830              </td><td>Visa - 1618                      </td><td>Amazon.com                       </td><td>0                                </td><td>zevolf@aol.com                   </td><td>11/25/2012                       </td><td>Parris Cather                    </td><td>1200 BELLE VIEW BLVD APT C2      </td><td>0                                </td><td>...                              </td><td>Shipped                          </td><td>USPS(9102901001302382851638)     </td><td>$19.32                           </td><td>$0.00                            </td><td>$0.00                            </td><td>$0.00                            </td><td>$0.00                            </td><td>19.32                            </td><td>Parris Cather                    </td><td>0                                </td></tr>\n",
       "\t<tr><td>2013-03-30                       </td><td>110-5967935-6078667              </td><td>Visa - 1618                      </td><td>Amazon.com                       </td><td>0                                </td><td>zevolf@aol.com                   </td><td>3/31/2013                        </td><td>Parris Cather                    </td><td>1200 BELLE VIEW BLVD APT C2      </td><td>0                                </td><td>...                              </td><td>Shipped                          </td><td>USPS(9274897641999821274468)     </td><td>$16.99                           </td><td>$0.00                            </td><td>$0.00                            </td><td>$0.00                            </td><td>$0.00                            </td><td>16.99                            </td><td>Parris Cather                    </td><td>0                                </td></tr>\n",
       "\t<tr><td>2013-08-02                       </td><td>110-9244761-2302615              </td><td>Visa - 1618                      </td><td>Amazon.com                       </td><td>0                                </td><td>zevolf@aol.com                   </td><td>8/3/2013                         </td><td>Parris Cather                    </td><td>1200 BELLE VIEW BLVD APT C2      </td><td>0                                </td><td>...                              </td><td>Shipped                          </td><td>LASERSHIP(9374889932155103888577)</td><td>$32.36                           </td><td>$0.00                            </td><td>$0.00                            </td><td>$0.00                            </td><td>$0.00                            </td><td>32.36                            </td><td>Parris Cather                    </td><td>0                                </td></tr>\n",
       "\t<tr><td>2013-08-29                       </td><td>002-0047083-3392265              </td><td>Visa - 1618                      </td><td>Amazon.com                       </td><td>0                                </td><td>zevolf@aol.com                   </td><td>8/31/2013                        </td><td>Parris Cather                    </td><td>1200 BELLE VIEW BLVD APT C2      </td><td>0                                </td><td>...                              </td><td>Shipped                          </td><td>LASERSHIP(LL15319113)            </td><td>$20.07                           </td><td>$0.00                            </td><td>$0.00                            </td><td>$0.00                            </td><td>$0.00                            </td><td>20.07                            </td><td>Parris Cather                    </td><td>0                                </td></tr>\n",
       "\t<tr><td>2013-12-14                       </td><td>107-8157459-2444238              </td><td>Amazon.com Store Card - 1132     </td><td>Amazon.com                       </td><td>0                                </td><td>zevolf@aol.com                   </td><td>12/16/2013                       </td><td>Parris Cather                    </td><td>1200 BELLE VIEW BLVD APT C2      </td><td>0                                </td><td>...                              </td><td>Shipped                          </td><td>UPS(1Z85V8370355648790)          </td><td>$13.98                           </td><td>$0.00                            </td><td>$0.84                            </td><td>$0.00                            </td><td>$0.84                            </td><td>14.82                            </td><td>Parris Cather                    </td><td>0                                </td></tr>\n",
       "</tbody>\n",
       "</table>\n"
      ],
      "text/latex": [
       "\\begin{tabular}{r|lllllllllllllllllllllll}\n",
       " Order.Date & Order.ID & Payment.Instrument.Type & Website & Purchase.Order.Number & Ordering.Customer.Email & Shipment.Date & Shipping.Address.Name & Shipping.Address.Street.1 & Shipping.Address.Street.2 & ... & Order.Status & Carrier.Name...Tracking.Number & Subtotal & Shipping.Charge & Tax.Before.Promotions & Total.Promotions & Tax.Charged & Total.Charged & Buyer.Name & Group.Name\\\\\n",
       "\\hline\n",
       "\t 2011-06-18                        & 105-7622623-3731435               & Visa - 3242                       & Amazon.com                        & 0                                 & zevolf@aol.com                    & 6/22/2011                         & Parris Cather                     & 1200 BELLE VIEW BLVD APT C2       & 0                                 & ...                               & Shipped                           & USPS(9102927003525114940181)      & \\$25.38                          & \\$3.97                           & \\$0.00                           & \\$3.97                           & \\$0.00                           & 25.38                             & Parris Cather                     & 0                                \\\\\n",
       "\t 2012-11-25                        & 111-9586569-5457830               & Visa - 1618                       & Amazon.com                        & 0                                 & zevolf@aol.com                    & 11/25/2012                        & Parris Cather                     & 1200 BELLE VIEW BLVD APT C2       & 0                                 & ...                               & Shipped                           & USPS(9102901001302382851638)      & \\$19.32                          & \\$0.00                           & \\$0.00                           & \\$0.00                           & \\$0.00                           & 19.32                             & Parris Cather                     & 0                                \\\\\n",
       "\t 2013-03-30                        & 110-5967935-6078667               & Visa - 1618                       & Amazon.com                        & 0                                 & zevolf@aol.com                    & 3/31/2013                         & Parris Cather                     & 1200 BELLE VIEW BLVD APT C2       & 0                                 & ...                               & Shipped                           & USPS(9274897641999821274468)      & \\$16.99                          & \\$0.00                           & \\$0.00                           & \\$0.00                           & \\$0.00                           & 16.99                             & Parris Cather                     & 0                                \\\\\n",
       "\t 2013-08-02                        & 110-9244761-2302615               & Visa - 1618                       & Amazon.com                        & 0                                 & zevolf@aol.com                    & 8/3/2013                          & Parris Cather                     & 1200 BELLE VIEW BLVD APT C2       & 0                                 & ...                               & Shipped                           & LASERSHIP(9374889932155103888577) & \\$32.36                          & \\$0.00                           & \\$0.00                           & \\$0.00                           & \\$0.00                           & 32.36                             & Parris Cather                     & 0                                \\\\\n",
       "\t 2013-08-29                        & 002-0047083-3392265               & Visa - 1618                       & Amazon.com                        & 0                                 & zevolf@aol.com                    & 8/31/2013                         & Parris Cather                     & 1200 BELLE VIEW BLVD APT C2       & 0                                 & ...                               & Shipped                           & LASERSHIP(LL15319113)             & \\$20.07                          & \\$0.00                           & \\$0.00                           & \\$0.00                           & \\$0.00                           & 20.07                             & Parris Cather                     & 0                                \\\\\n",
       "\t 2013-12-14                        & 107-8157459-2444238               & Amazon.com Store Card - 1132      & Amazon.com                        & 0                                 & zevolf@aol.com                    & 12/16/2013                        & Parris Cather                     & 1200 BELLE VIEW BLVD APT C2       & 0                                 & ...                               & Shipped                           & UPS(1Z85V8370355648790)           & \\$13.98                          & \\$0.00                           & \\$0.84                           & \\$0.00                           & \\$0.84                           & 14.82                             & Parris Cather                     & 0                                \\\\\n",
       "\\end{tabular}\n"
      ],
      "text/markdown": [
       "\n",
       "| Order.Date | Order.ID | Payment.Instrument.Type | Website | Purchase.Order.Number | Ordering.Customer.Email | Shipment.Date | Shipping.Address.Name | Shipping.Address.Street.1 | Shipping.Address.Street.2 | ... | Order.Status | Carrier.Name...Tracking.Number | Subtotal | Shipping.Charge | Tax.Before.Promotions | Total.Promotions | Tax.Charged | Total.Charged | Buyer.Name | Group.Name |\n",
       "|---|---|---|---|---|---|---|---|---|---|---|---|---|---|---|---|---|---|---|---|---|\n",
       "| 2011-06-18                        | 105-7622623-3731435               | Visa - 3242                       | Amazon.com                        | 0                                 | zevolf@aol.com                    | 6/22/2011                         | Parris Cather                     | 1200 BELLE VIEW BLVD APT C2       | 0                                 | ...                               | Shipped                           | USPS(9102927003525114940181)      | $25.38                            | $3.97                             | $0.00                             | $3.97                             | $0.00                             | 25.38                             | Parris Cather                     | 0                                 |\n",
       "| 2012-11-25                        | 111-9586569-5457830               | Visa - 1618                       | Amazon.com                        | 0                                 | zevolf@aol.com                    | 11/25/2012                        | Parris Cather                     | 1200 BELLE VIEW BLVD APT C2       | 0                                 | ...                               | Shipped                           | USPS(9102901001302382851638)      | $19.32                            | $0.00                             | $0.00                             | $0.00                             | $0.00                             | 19.32                             | Parris Cather                     | 0                                 |\n",
       "| 2013-03-30                        | 110-5967935-6078667               | Visa - 1618                       | Amazon.com                        | 0                                 | zevolf@aol.com                    | 3/31/2013                         | Parris Cather                     | 1200 BELLE VIEW BLVD APT C2       | 0                                 | ...                               | Shipped                           | USPS(9274897641999821274468)      | $16.99                            | $0.00                             | $0.00                             | $0.00                             | $0.00                             | 16.99                             | Parris Cather                     | 0                                 |\n",
       "| 2013-08-02                        | 110-9244761-2302615               | Visa - 1618                       | Amazon.com                        | 0                                 | zevolf@aol.com                    | 8/3/2013                          | Parris Cather                     | 1200 BELLE VIEW BLVD APT C2       | 0                                 | ...                               | Shipped                           | LASERSHIP(9374889932155103888577) | $32.36                            | $0.00                             | $0.00                             | $0.00                             | $0.00                             | 32.36                             | Parris Cather                     | 0                                 |\n",
       "| 2013-08-29                        | 002-0047083-3392265               | Visa - 1618                       | Amazon.com                        | 0                                 | zevolf@aol.com                    | 8/31/2013                         | Parris Cather                     | 1200 BELLE VIEW BLVD APT C2       | 0                                 | ...                               | Shipped                           | LASERSHIP(LL15319113)             | $20.07                            | $0.00                             | $0.00                             | $0.00                             | $0.00                             | 20.07                             | Parris Cather                     | 0                                 |\n",
       "| 2013-12-14                        | 107-8157459-2444238               | Amazon.com Store Card - 1132      | Amazon.com                        | 0                                 | zevolf@aol.com                    | 12/16/2013                        | Parris Cather                     | 1200 BELLE VIEW BLVD APT C2       | 0                                 | ...                               | Shipped                           | UPS(1Z85V8370355648790)           | $13.98                            | $0.00                             | $0.84                             | $0.00                             | $0.84                             | 14.82                             | Parris Cather                     | 0                                 |\n",
       "\n"
      ],
      "text/plain": [
       "  Order.Date Order.ID            Payment.Instrument.Type      Website   \n",
       "1 2011-06-18 105-7622623-3731435 Visa - 3242                  Amazon.com\n",
       "2 2012-11-25 111-9586569-5457830 Visa - 1618                  Amazon.com\n",
       "3 2013-03-30 110-5967935-6078667 Visa - 1618                  Amazon.com\n",
       "4 2013-08-02 110-9244761-2302615 Visa - 1618                  Amazon.com\n",
       "5 2013-08-29 002-0047083-3392265 Visa - 1618                  Amazon.com\n",
       "6 2013-12-14 107-8157459-2444238 Amazon.com Store Card - 1132 Amazon.com\n",
       "  Purchase.Order.Number Ordering.Customer.Email Shipment.Date\n",
       "1 0                     zevolf@aol.com          6/22/2011    \n",
       "2 0                     zevolf@aol.com          11/25/2012   \n",
       "3 0                     zevolf@aol.com          3/31/2013    \n",
       "4 0                     zevolf@aol.com          8/3/2013     \n",
       "5 0                     zevolf@aol.com          8/31/2013    \n",
       "6 0                     zevolf@aol.com          12/16/2013   \n",
       "  Shipping.Address.Name Shipping.Address.Street.1   Shipping.Address.Street.2\n",
       "1 Parris Cather         1200 BELLE VIEW BLVD APT C2 0                        \n",
       "2 Parris Cather         1200 BELLE VIEW BLVD APT C2 0                        \n",
       "3 Parris Cather         1200 BELLE VIEW BLVD APT C2 0                        \n",
       "4 Parris Cather         1200 BELLE VIEW BLVD APT C2 0                        \n",
       "5 Parris Cather         1200 BELLE VIEW BLVD APT C2 0                        \n",
       "6 Parris Cather         1200 BELLE VIEW BLVD APT C2 0                        \n",
       "  ... Order.Status Carrier.Name...Tracking.Number    Subtotal Shipping.Charge\n",
       "1 ... Shipped      USPS(9102927003525114940181)      $25.38   $3.97          \n",
       "2 ... Shipped      USPS(9102901001302382851638)      $19.32   $0.00          \n",
       "3 ... Shipped      USPS(9274897641999821274468)      $16.99   $0.00          \n",
       "4 ... Shipped      LASERSHIP(9374889932155103888577) $32.36   $0.00          \n",
       "5 ... Shipped      LASERSHIP(LL15319113)             $20.07   $0.00          \n",
       "6 ... Shipped      UPS(1Z85V8370355648790)           $13.98   $0.00          \n",
       "  Tax.Before.Promotions Total.Promotions Tax.Charged Total.Charged\n",
       "1 $0.00                 $3.97            $0.00       25.38        \n",
       "2 $0.00                 $0.00            $0.00       19.32        \n",
       "3 $0.00                 $0.00            $0.00       16.99        \n",
       "4 $0.00                 $0.00            $0.00       32.36        \n",
       "5 $0.00                 $0.00            $0.00       20.07        \n",
       "6 $0.84                 $0.00            $0.84       14.82        \n",
       "  Buyer.Name    Group.Name\n",
       "1 Parris Cather 0         \n",
       "2 Parris Cather 0         \n",
       "3 Parris Cather 0         \n",
       "4 Parris Cather 0         \n",
       "5 Parris Cather 0         \n",
       "6 Parris Cather 0         "
      ]
     },
     "metadata": {},
     "output_type": "display_data"
    }
   ],
   "source": [
    "df$Order.Date <- as.POSIXct(df$Order.Date, format = \"%m/%d/%Y\")\n",
    "head(df)"
   ]
  },
  {
   "cell_type": "code",
   "execution_count": 12,
   "id": "157a63e4",
   "metadata": {},
   "outputs": [
    {
     "data": {
      "text/html": [
       "<table>\n",
       "<thead><tr><th scope=col>Order.Date</th><th scope=col>total_charged</th></tr></thead>\n",
       "<tbody>\n",
       "\t<tr><td>2011-06-18</td><td> 25.38    </td></tr>\n",
       "\t<tr><td>2012-11-25</td><td> 19.32    </td></tr>\n",
       "\t<tr><td>2013-03-30</td><td> 16.99    </td></tr>\n",
       "\t<tr><td>2013-08-02</td><td> 32.36    </td></tr>\n",
       "\t<tr><td>2013-08-29</td><td> 20.07    </td></tr>\n",
       "\t<tr><td>2013-12-14</td><td>355.06    </td></tr>\n",
       "\t<tr><td>2014-02-19</td><td> 31.79    </td></tr>\n",
       "\t<tr><td>2014-04-12</td><td> 67.72    </td></tr>\n",
       "\t<tr><td>2014-05-18</td><td>224.00    </td></tr>\n",
       "\t<tr><td>2014-09-13</td><td>469.15    </td></tr>\n",
       "\t<tr><td>2014-09-22</td><td> 50.38    </td></tr>\n",
       "\t<tr><td>2014-10-25</td><td>697.35    </td></tr>\n",
       "\t<tr><td>2014-11-20</td><td>133.05    </td></tr>\n",
       "\t<tr><td>2014-11-24</td><td> 37.09    </td></tr>\n",
       "\t<tr><td>2014-11-25</td><td>104.94    </td></tr>\n",
       "\t<tr><td>2014-11-28</td><td> 83.08    </td></tr>\n",
       "\t<tr><td>2014-12-07</td><td>103.01    </td></tr>\n",
       "\t<tr><td>2014-12-08</td><td> 31.69    </td></tr>\n",
       "\t<tr><td>2014-12-15</td><td> 19.89    </td></tr>\n",
       "\t<tr><td>2014-12-21</td><td> 29.67    </td></tr>\n",
       "\t<tr><td>2014-12-24</td><td> 36.02    </td></tr>\n",
       "\t<tr><td>2014-12-30</td><td> 48.67    </td></tr>\n",
       "\t<tr><td>2015-02-14</td><td> 86.36    </td></tr>\n",
       "\t<tr><td>2015-04-24</td><td> 15.87    </td></tr>\n",
       "\t<tr><td>2015-05-01</td><td> 37.09    </td></tr>\n",
       "\t<tr><td>2015-05-08</td><td> 19.02    </td></tr>\n",
       "\t<tr><td>2015-06-02</td><td> 23.84    </td></tr>\n",
       "\t<tr><td>2015-06-16</td><td>138.58    </td></tr>\n",
       "\t<tr><td>2015-06-20</td><td> 13.77    </td></tr>\n",
       "\t<tr><td>2015-07-03</td><td> 34.97    </td></tr>\n",
       "\t<tr><td>...</td><td>...</td></tr>\n",
       "\t<tr><td>2021-11-18</td><td> 27.94    </td></tr>\n",
       "\t<tr><td>2021-11-21</td><td>106.49    </td></tr>\n",
       "\t<tr><td>2021-11-23</td><td> 63.86    </td></tr>\n",
       "\t<tr><td>2021-11-29</td><td>176.40    </td></tr>\n",
       "\t<tr><td>2021-12-06</td><td> 69.78    </td></tr>\n",
       "\t<tr><td>2021-12-07</td><td>154.77    </td></tr>\n",
       "\t<tr><td>2021-12-08</td><td> 26.96    </td></tr>\n",
       "\t<tr><td>2021-12-11</td><td>143.05    </td></tr>\n",
       "\t<tr><td>2021-12-14</td><td>147.39    </td></tr>\n",
       "\t<tr><td>2021-12-15</td><td>124.32    </td></tr>\n",
       "\t<tr><td>2021-12-16</td><td> 10.59    </td></tr>\n",
       "\t<tr><td>2021-12-17</td><td> 47.69    </td></tr>\n",
       "\t<tr><td>2021-12-19</td><td>112.33    </td></tr>\n",
       "\t<tr><td>2021-12-24</td><td>120.26    </td></tr>\n",
       "\t<tr><td>2022-01-01</td><td> 51.08    </td></tr>\n",
       "\t<tr><td>2022-01-02</td><td> 51.73    </td></tr>\n",
       "\t<tr><td>2022-01-04</td><td> 39.09    </td></tr>\n",
       "\t<tr><td>2022-01-08</td><td>127.10    </td></tr>\n",
       "\t<tr><td>2022-01-12</td><td>141.30    </td></tr>\n",
       "\t<tr><td>2022-01-14</td><td> 78.59    </td></tr>\n",
       "\t<tr><td>2022-01-17</td><td>115.04    </td></tr>\n",
       "\t<tr><td>2022-01-20</td><td> 12.28    </td></tr>\n",
       "\t<tr><td>2022-01-28</td><td> 80.55    </td></tr>\n",
       "\t<tr><td>2022-01-29</td><td> 34.17    </td></tr>\n",
       "\t<tr><td>2022-02-02</td><td>136.76    </td></tr>\n",
       "\t<tr><td>2022-02-09</td><td>111.19    </td></tr>\n",
       "\t<tr><td>2022-02-10</td><td> 70.07    </td></tr>\n",
       "\t<tr><td>2022-02-16</td><td>169.12    </td></tr>\n",
       "\t<tr><td>2022-02-24</td><td> 80.36    </td></tr>\n",
       "\t<tr><td>2022-03-03</td><td> 69.31    </td></tr>\n",
       "</tbody>\n",
       "</table>\n"
      ],
      "text/latex": [
       "\\begin{tabular}{r|ll}\n",
       " Order.Date & total\\_charged\\\\\n",
       "\\hline\n",
       "\t 2011-06-18 &  25.38    \\\\\n",
       "\t 2012-11-25 &  19.32    \\\\\n",
       "\t 2013-03-30 &  16.99    \\\\\n",
       "\t 2013-08-02 &  32.36    \\\\\n",
       "\t 2013-08-29 &  20.07    \\\\\n",
       "\t 2013-12-14 & 355.06    \\\\\n",
       "\t 2014-02-19 &  31.79    \\\\\n",
       "\t 2014-04-12 &  67.72    \\\\\n",
       "\t 2014-05-18 & 224.00    \\\\\n",
       "\t 2014-09-13 & 469.15    \\\\\n",
       "\t 2014-09-22 &  50.38    \\\\\n",
       "\t 2014-10-25 & 697.35    \\\\\n",
       "\t 2014-11-20 & 133.05    \\\\\n",
       "\t 2014-11-24 &  37.09    \\\\\n",
       "\t 2014-11-25 & 104.94    \\\\\n",
       "\t 2014-11-28 &  83.08    \\\\\n",
       "\t 2014-12-07 & 103.01    \\\\\n",
       "\t 2014-12-08 &  31.69    \\\\\n",
       "\t 2014-12-15 &  19.89    \\\\\n",
       "\t 2014-12-21 &  29.67    \\\\\n",
       "\t 2014-12-24 &  36.02    \\\\\n",
       "\t 2014-12-30 &  48.67    \\\\\n",
       "\t 2015-02-14 &  86.36    \\\\\n",
       "\t 2015-04-24 &  15.87    \\\\\n",
       "\t 2015-05-01 &  37.09    \\\\\n",
       "\t 2015-05-08 &  19.02    \\\\\n",
       "\t 2015-06-02 &  23.84    \\\\\n",
       "\t 2015-06-16 & 138.58    \\\\\n",
       "\t 2015-06-20 &  13.77    \\\\\n",
       "\t 2015-07-03 &  34.97    \\\\\n",
       "\t ... & ...\\\\\n",
       "\t 2021-11-18 &  27.94    \\\\\n",
       "\t 2021-11-21 & 106.49    \\\\\n",
       "\t 2021-11-23 &  63.86    \\\\\n",
       "\t 2021-11-29 & 176.40    \\\\\n",
       "\t 2021-12-06 &  69.78    \\\\\n",
       "\t 2021-12-07 & 154.77    \\\\\n",
       "\t 2021-12-08 &  26.96    \\\\\n",
       "\t 2021-12-11 & 143.05    \\\\\n",
       "\t 2021-12-14 & 147.39    \\\\\n",
       "\t 2021-12-15 & 124.32    \\\\\n",
       "\t 2021-12-16 &  10.59    \\\\\n",
       "\t 2021-12-17 &  47.69    \\\\\n",
       "\t 2021-12-19 & 112.33    \\\\\n",
       "\t 2021-12-24 & 120.26    \\\\\n",
       "\t 2022-01-01 &  51.08    \\\\\n",
       "\t 2022-01-02 &  51.73    \\\\\n",
       "\t 2022-01-04 &  39.09    \\\\\n",
       "\t 2022-01-08 & 127.10    \\\\\n",
       "\t 2022-01-12 & 141.30    \\\\\n",
       "\t 2022-01-14 &  78.59    \\\\\n",
       "\t 2022-01-17 & 115.04    \\\\\n",
       "\t 2022-01-20 &  12.28    \\\\\n",
       "\t 2022-01-28 &  80.55    \\\\\n",
       "\t 2022-01-29 &  34.17    \\\\\n",
       "\t 2022-02-02 & 136.76    \\\\\n",
       "\t 2022-02-09 & 111.19    \\\\\n",
       "\t 2022-02-10 &  70.07    \\\\\n",
       "\t 2022-02-16 & 169.12    \\\\\n",
       "\t 2022-02-24 &  80.36    \\\\\n",
       "\t 2022-03-03 &  69.31    \\\\\n",
       "\\end{tabular}\n"
      ],
      "text/markdown": [
       "\n",
       "| Order.Date | total_charged |\n",
       "|---|---|\n",
       "| 2011-06-18 |  25.38     |\n",
       "| 2012-11-25 |  19.32     |\n",
       "| 2013-03-30 |  16.99     |\n",
       "| 2013-08-02 |  32.36     |\n",
       "| 2013-08-29 |  20.07     |\n",
       "| 2013-12-14 | 355.06     |\n",
       "| 2014-02-19 |  31.79     |\n",
       "| 2014-04-12 |  67.72     |\n",
       "| 2014-05-18 | 224.00     |\n",
       "| 2014-09-13 | 469.15     |\n",
       "| 2014-09-22 |  50.38     |\n",
       "| 2014-10-25 | 697.35     |\n",
       "| 2014-11-20 | 133.05     |\n",
       "| 2014-11-24 |  37.09     |\n",
       "| 2014-11-25 | 104.94     |\n",
       "| 2014-11-28 |  83.08     |\n",
       "| 2014-12-07 | 103.01     |\n",
       "| 2014-12-08 |  31.69     |\n",
       "| 2014-12-15 |  19.89     |\n",
       "| 2014-12-21 |  29.67     |\n",
       "| 2014-12-24 |  36.02     |\n",
       "| 2014-12-30 |  48.67     |\n",
       "| 2015-02-14 |  86.36     |\n",
       "| 2015-04-24 |  15.87     |\n",
       "| 2015-05-01 |  37.09     |\n",
       "| 2015-05-08 |  19.02     |\n",
       "| 2015-06-02 |  23.84     |\n",
       "| 2015-06-16 | 138.58     |\n",
       "| 2015-06-20 |  13.77     |\n",
       "| 2015-07-03 |  34.97     |\n",
       "| ... | ... |\n",
       "| 2021-11-18 |  27.94     |\n",
       "| 2021-11-21 | 106.49     |\n",
       "| 2021-11-23 |  63.86     |\n",
       "| 2021-11-29 | 176.40     |\n",
       "| 2021-12-06 |  69.78     |\n",
       "| 2021-12-07 | 154.77     |\n",
       "| 2021-12-08 |  26.96     |\n",
       "| 2021-12-11 | 143.05     |\n",
       "| 2021-12-14 | 147.39     |\n",
       "| 2021-12-15 | 124.32     |\n",
       "| 2021-12-16 |  10.59     |\n",
       "| 2021-12-17 |  47.69     |\n",
       "| 2021-12-19 | 112.33     |\n",
       "| 2021-12-24 | 120.26     |\n",
       "| 2022-01-01 |  51.08     |\n",
       "| 2022-01-02 |  51.73     |\n",
       "| 2022-01-04 |  39.09     |\n",
       "| 2022-01-08 | 127.10     |\n",
       "| 2022-01-12 | 141.30     |\n",
       "| 2022-01-14 |  78.59     |\n",
       "| 2022-01-17 | 115.04     |\n",
       "| 2022-01-20 |  12.28     |\n",
       "| 2022-01-28 |  80.55     |\n",
       "| 2022-01-29 |  34.17     |\n",
       "| 2022-02-02 | 136.76     |\n",
       "| 2022-02-09 | 111.19     |\n",
       "| 2022-02-10 |  70.07     |\n",
       "| 2022-02-16 | 169.12     |\n",
       "| 2022-02-24 |  80.36     |\n",
       "| 2022-03-03 |  69.31     |\n",
       "\n"
      ],
      "text/plain": [
       "    Order.Date total_charged\n",
       "1   2011-06-18  25.38       \n",
       "2   2012-11-25  19.32       \n",
       "3   2013-03-30  16.99       \n",
       "4   2013-08-02  32.36       \n",
       "5   2013-08-29  20.07       \n",
       "6   2013-12-14 355.06       \n",
       "7   2014-02-19  31.79       \n",
       "8   2014-04-12  67.72       \n",
       "9   2014-05-18 224.00       \n",
       "10  2014-09-13 469.15       \n",
       "11  2014-09-22  50.38       \n",
       "12  2014-10-25 697.35       \n",
       "13  2014-11-20 133.05       \n",
       "14  2014-11-24  37.09       \n",
       "15  2014-11-25 104.94       \n",
       "16  2014-11-28  83.08       \n",
       "17  2014-12-07 103.01       \n",
       "18  2014-12-08  31.69       \n",
       "19  2014-12-15  19.89       \n",
       "20  2014-12-21  29.67       \n",
       "21  2014-12-24  36.02       \n",
       "22  2014-12-30  48.67       \n",
       "23  2015-02-14  86.36       \n",
       "24  2015-04-24  15.87       \n",
       "25  2015-05-01  37.09       \n",
       "26  2015-05-08  19.02       \n",
       "27  2015-06-02  23.84       \n",
       "28  2015-06-16 138.58       \n",
       "29  2015-06-20  13.77       \n",
       "30  2015-07-03  34.97       \n",
       "... ...        ...          \n",
       "212 2021-11-18  27.94       \n",
       "213 2021-11-21 106.49       \n",
       "214 2021-11-23  63.86       \n",
       "215 2021-11-29 176.40       \n",
       "216 2021-12-06  69.78       \n",
       "217 2021-12-07 154.77       \n",
       "218 2021-12-08  26.96       \n",
       "219 2021-12-11 143.05       \n",
       "220 2021-12-14 147.39       \n",
       "221 2021-12-15 124.32       \n",
       "222 2021-12-16  10.59       \n",
       "223 2021-12-17  47.69       \n",
       "224 2021-12-19 112.33       \n",
       "225 2021-12-24 120.26       \n",
       "226 2022-01-01  51.08       \n",
       "227 2022-01-02  51.73       \n",
       "228 2022-01-04  39.09       \n",
       "229 2022-01-08 127.10       \n",
       "230 2022-01-12 141.30       \n",
       "231 2022-01-14  78.59       \n",
       "232 2022-01-17 115.04       \n",
       "233 2022-01-20  12.28       \n",
       "234 2022-01-28  80.55       \n",
       "235 2022-01-29  34.17       \n",
       "236 2022-02-02 136.76       \n",
       "237 2022-02-09 111.19       \n",
       "238 2022-02-10  70.07       \n",
       "239 2022-02-16 169.12       \n",
       "240 2022-02-24  80.36       \n",
       "241 2022-03-03  69.31       "
      ]
     },
     "metadata": {},
     "output_type": "display_data"
    }
   ],
   "source": [
    "library(dplyr)\n",
    "total_grp_date <- df %>% group_by(Order.Date) %>%\n",
    "                    summarise(total_charged = sum(Total.Charged))\n",
    "total_grp_date"
   ]
  },
  {
   "cell_type": "code",
   "execution_count": 13,
   "id": "64fb7724",
   "metadata": {},
   "outputs": [
    {
     "data": {
      "text/html": [
       "<table>\n",
       "<thead><tr><th scope=col>Order.Date</th><th scope=col>Order.ID</th><th scope=col>Payment.Instrument.Type</th><th scope=col>Website</th><th scope=col>Purchase.Order.Number</th><th scope=col>Ordering.Customer.Email</th><th scope=col>Shipment.Date</th><th scope=col>Shipping.Address.Name</th><th scope=col>Shipping.Address.Street.1</th><th scope=col>Shipping.Address.Street.2</th><th scope=col>...</th><th scope=col>Subtotal</th><th scope=col>Shipping.Charge</th><th scope=col>Tax.Before.Promotions</th><th scope=col>Total.Promotions</th><th scope=col>Tax.Charged</th><th scope=col>Total.Charged</th><th scope=col>Buyer.Name</th><th scope=col>Group.Name</th><th scope=col>year</th><th scope=col>month</th></tr></thead>\n",
       "<tbody>\n",
       "\t<tr><td>2011-06-18                  </td><td>105-7622623-3731435         </td><td>Visa - 3242                 </td><td>Amazon.com                  </td><td>0                           </td><td>zevolf@aol.com              </td><td>6/22/2011                   </td><td>Parris Cather               </td><td>1200 BELLE VIEW BLVD APT C2 </td><td>0                           </td><td>...                         </td><td>$25.38                      </td><td>$3.97                       </td><td>$0.00                       </td><td>$3.97                       </td><td>$0.00                       </td><td>25.38                       </td><td>Parris Cather               </td><td>0                           </td><td>2011                        </td><td>06                          </td></tr>\n",
       "\t<tr><td>2012-11-25                  </td><td>111-9586569-5457830         </td><td>Visa - 1618                 </td><td>Amazon.com                  </td><td>0                           </td><td>zevolf@aol.com              </td><td>11/25/2012                  </td><td>Parris Cather               </td><td>1200 BELLE VIEW BLVD APT C2 </td><td>0                           </td><td>...                         </td><td>$19.32                      </td><td>$0.00                       </td><td>$0.00                       </td><td>$0.00                       </td><td>$0.00                       </td><td>19.32                       </td><td>Parris Cather               </td><td>0                           </td><td>2012                        </td><td>11                          </td></tr>\n",
       "\t<tr><td>2013-03-30                  </td><td>110-5967935-6078667         </td><td>Visa - 1618                 </td><td>Amazon.com                  </td><td>0                           </td><td>zevolf@aol.com              </td><td>3/31/2013                   </td><td>Parris Cather               </td><td>1200 BELLE VIEW BLVD APT C2 </td><td>0                           </td><td>...                         </td><td>$16.99                      </td><td>$0.00                       </td><td>$0.00                       </td><td>$0.00                       </td><td>$0.00                       </td><td>16.99                       </td><td>Parris Cather               </td><td>0                           </td><td>2013                        </td><td>03                          </td></tr>\n",
       "\t<tr><td>2013-08-02                  </td><td>110-9244761-2302615         </td><td>Visa - 1618                 </td><td>Amazon.com                  </td><td>0                           </td><td>zevolf@aol.com              </td><td>8/3/2013                    </td><td>Parris Cather               </td><td>1200 BELLE VIEW BLVD APT C2 </td><td>0                           </td><td>...                         </td><td>$32.36                      </td><td>$0.00                       </td><td>$0.00                       </td><td>$0.00                       </td><td>$0.00                       </td><td>32.36                       </td><td>Parris Cather               </td><td>0                           </td><td>2013                        </td><td>08                          </td></tr>\n",
       "\t<tr><td>2013-08-29                  </td><td>002-0047083-3392265         </td><td>Visa - 1618                 </td><td>Amazon.com                  </td><td>0                           </td><td>zevolf@aol.com              </td><td>8/31/2013                   </td><td>Parris Cather               </td><td>1200 BELLE VIEW BLVD APT C2 </td><td>0                           </td><td>...                         </td><td>$20.07                      </td><td>$0.00                       </td><td>$0.00                       </td><td>$0.00                       </td><td>$0.00                       </td><td>20.07                       </td><td>Parris Cather               </td><td>0                           </td><td>2013                        </td><td>08                          </td></tr>\n",
       "\t<tr><td>2013-12-14                  </td><td>107-8157459-2444238         </td><td>Amazon.com Store Card - 1132</td><td>Amazon.com                  </td><td>0                           </td><td>zevolf@aol.com              </td><td>12/16/2013                  </td><td>Parris Cather               </td><td>1200 BELLE VIEW BLVD APT C2 </td><td>0                           </td><td>...                         </td><td>$13.98                      </td><td>$0.00                       </td><td>$0.84                       </td><td>$0.00                       </td><td>$0.84                       </td><td>14.82                       </td><td>Parris Cather               </td><td>0                           </td><td>2013                        </td><td>12                          </td></tr>\n",
       "</tbody>\n",
       "</table>\n"
      ],
      "text/latex": [
       "\\begin{tabular}{r|lllllllllllllllllllllllll}\n",
       " Order.Date & Order.ID & Payment.Instrument.Type & Website & Purchase.Order.Number & Ordering.Customer.Email & Shipment.Date & Shipping.Address.Name & Shipping.Address.Street.1 & Shipping.Address.Street.2 & ... & Subtotal & Shipping.Charge & Tax.Before.Promotions & Total.Promotions & Tax.Charged & Total.Charged & Buyer.Name & Group.Name & year & month\\\\\n",
       "\\hline\n",
       "\t 2011-06-18                   & 105-7622623-3731435          & Visa - 3242                  & Amazon.com                   & 0                            & zevolf@aol.com               & 6/22/2011                    & Parris Cather                & 1200 BELLE VIEW BLVD APT C2  & 0                            & ...                          & \\$25.38                     & \\$3.97                      & \\$0.00                      & \\$3.97                      & \\$0.00                      & 25.38                        & Parris Cather                & 0                            & 2011                         & 06                          \\\\\n",
       "\t 2012-11-25                   & 111-9586569-5457830          & Visa - 1618                  & Amazon.com                   & 0                            & zevolf@aol.com               & 11/25/2012                   & Parris Cather                & 1200 BELLE VIEW BLVD APT C2  & 0                            & ...                          & \\$19.32                     & \\$0.00                      & \\$0.00                      & \\$0.00                      & \\$0.00                      & 19.32                        & Parris Cather                & 0                            & 2012                         & 11                          \\\\\n",
       "\t 2013-03-30                   & 110-5967935-6078667          & Visa - 1618                  & Amazon.com                   & 0                            & zevolf@aol.com               & 3/31/2013                    & Parris Cather                & 1200 BELLE VIEW BLVD APT C2  & 0                            & ...                          & \\$16.99                     & \\$0.00                      & \\$0.00                      & \\$0.00                      & \\$0.00                      & 16.99                        & Parris Cather                & 0                            & 2013                         & 03                          \\\\\n",
       "\t 2013-08-02                   & 110-9244761-2302615          & Visa - 1618                  & Amazon.com                   & 0                            & zevolf@aol.com               & 8/3/2013                     & Parris Cather                & 1200 BELLE VIEW BLVD APT C2  & 0                            & ...                          & \\$32.36                     & \\$0.00                      & \\$0.00                      & \\$0.00                      & \\$0.00                      & 32.36                        & Parris Cather                & 0                            & 2013                         & 08                          \\\\\n",
       "\t 2013-08-29                   & 002-0047083-3392265          & Visa - 1618                  & Amazon.com                   & 0                            & zevolf@aol.com               & 8/31/2013                    & Parris Cather                & 1200 BELLE VIEW BLVD APT C2  & 0                            & ...                          & \\$20.07                     & \\$0.00                      & \\$0.00                      & \\$0.00                      & \\$0.00                      & 20.07                        & Parris Cather                & 0                            & 2013                         & 08                          \\\\\n",
       "\t 2013-12-14                   & 107-8157459-2444238          & Amazon.com Store Card - 1132 & Amazon.com                   & 0                            & zevolf@aol.com               & 12/16/2013                   & Parris Cather                & 1200 BELLE VIEW BLVD APT C2  & 0                            & ...                          & \\$13.98                     & \\$0.00                      & \\$0.84                      & \\$0.00                      & \\$0.84                      & 14.82                        & Parris Cather                & 0                            & 2013                         & 12                          \\\\\n",
       "\\end{tabular}\n"
      ],
      "text/markdown": [
       "\n",
       "| Order.Date | Order.ID | Payment.Instrument.Type | Website | Purchase.Order.Number | Ordering.Customer.Email | Shipment.Date | Shipping.Address.Name | Shipping.Address.Street.1 | Shipping.Address.Street.2 | ... | Subtotal | Shipping.Charge | Tax.Before.Promotions | Total.Promotions | Tax.Charged | Total.Charged | Buyer.Name | Group.Name | year | month |\n",
       "|---|---|---|---|---|---|---|---|---|---|---|---|---|---|---|---|---|---|---|---|---|\n",
       "| 2011-06-18                   | 105-7622623-3731435          | Visa - 3242                  | Amazon.com                   | 0                            | zevolf@aol.com               | 6/22/2011                    | Parris Cather                | 1200 BELLE VIEW BLVD APT C2  | 0                            | ...                          | $25.38                       | $3.97                        | $0.00                        | $3.97                        | $0.00                        | 25.38                        | Parris Cather                | 0                            | 2011                         | 06                           |\n",
       "| 2012-11-25                   | 111-9586569-5457830          | Visa - 1618                  | Amazon.com                   | 0                            | zevolf@aol.com               | 11/25/2012                   | Parris Cather                | 1200 BELLE VIEW BLVD APT C2  | 0                            | ...                          | $19.32                       | $0.00                        | $0.00                        | $0.00                        | $0.00                        | 19.32                        | Parris Cather                | 0                            | 2012                         | 11                           |\n",
       "| 2013-03-30                   | 110-5967935-6078667          | Visa - 1618                  | Amazon.com                   | 0                            | zevolf@aol.com               | 3/31/2013                    | Parris Cather                | 1200 BELLE VIEW BLVD APT C2  | 0                            | ...                          | $16.99                       | $0.00                        | $0.00                        | $0.00                        | $0.00                        | 16.99                        | Parris Cather                | 0                            | 2013                         | 03                           |\n",
       "| 2013-08-02                   | 110-9244761-2302615          | Visa - 1618                  | Amazon.com                   | 0                            | zevolf@aol.com               | 8/3/2013                     | Parris Cather                | 1200 BELLE VIEW BLVD APT C2  | 0                            | ...                          | $32.36                       | $0.00                        | $0.00                        | $0.00                        | $0.00                        | 32.36                        | Parris Cather                | 0                            | 2013                         | 08                           |\n",
       "| 2013-08-29                   | 002-0047083-3392265          | Visa - 1618                  | Amazon.com                   | 0                            | zevolf@aol.com               | 8/31/2013                    | Parris Cather                | 1200 BELLE VIEW BLVD APT C2  | 0                            | ...                          | $20.07                       | $0.00                        | $0.00                        | $0.00                        | $0.00                        | 20.07                        | Parris Cather                | 0                            | 2013                         | 08                           |\n",
       "| 2013-12-14                   | 107-8157459-2444238          | Amazon.com Store Card - 1132 | Amazon.com                   | 0                            | zevolf@aol.com               | 12/16/2013                   | Parris Cather                | 1200 BELLE VIEW BLVD APT C2  | 0                            | ...                          | $13.98                       | $0.00                        | $0.84                        | $0.00                        | $0.84                        | 14.82                        | Parris Cather                | 0                            | 2013                         | 12                           |\n",
       "\n"
      ],
      "text/plain": [
       "  Order.Date Order.ID            Payment.Instrument.Type      Website   \n",
       "1 2011-06-18 105-7622623-3731435 Visa - 3242                  Amazon.com\n",
       "2 2012-11-25 111-9586569-5457830 Visa - 1618                  Amazon.com\n",
       "3 2013-03-30 110-5967935-6078667 Visa - 1618                  Amazon.com\n",
       "4 2013-08-02 110-9244761-2302615 Visa - 1618                  Amazon.com\n",
       "5 2013-08-29 002-0047083-3392265 Visa - 1618                  Amazon.com\n",
       "6 2013-12-14 107-8157459-2444238 Amazon.com Store Card - 1132 Amazon.com\n",
       "  Purchase.Order.Number Ordering.Customer.Email Shipment.Date\n",
       "1 0                     zevolf@aol.com          6/22/2011    \n",
       "2 0                     zevolf@aol.com          11/25/2012   \n",
       "3 0                     zevolf@aol.com          3/31/2013    \n",
       "4 0                     zevolf@aol.com          8/3/2013     \n",
       "5 0                     zevolf@aol.com          8/31/2013    \n",
       "6 0                     zevolf@aol.com          12/16/2013   \n",
       "  Shipping.Address.Name Shipping.Address.Street.1   Shipping.Address.Street.2\n",
       "1 Parris Cather         1200 BELLE VIEW BLVD APT C2 0                        \n",
       "2 Parris Cather         1200 BELLE VIEW BLVD APT C2 0                        \n",
       "3 Parris Cather         1200 BELLE VIEW BLVD APT C2 0                        \n",
       "4 Parris Cather         1200 BELLE VIEW BLVD APT C2 0                        \n",
       "5 Parris Cather         1200 BELLE VIEW BLVD APT C2 0                        \n",
       "6 Parris Cather         1200 BELLE VIEW BLVD APT C2 0                        \n",
       "  ... Subtotal Shipping.Charge Tax.Before.Promotions Total.Promotions\n",
       "1 ... $25.38   $3.97           $0.00                 $3.97           \n",
       "2 ... $19.32   $0.00           $0.00                 $0.00           \n",
       "3 ... $16.99   $0.00           $0.00                 $0.00           \n",
       "4 ... $32.36   $0.00           $0.00                 $0.00           \n",
       "5 ... $20.07   $0.00           $0.00                 $0.00           \n",
       "6 ... $13.98   $0.00           $0.84                 $0.00           \n",
       "  Tax.Charged Total.Charged Buyer.Name    Group.Name year month\n",
       "1 $0.00       25.38         Parris Cather 0          2011 06   \n",
       "2 $0.00       19.32         Parris Cather 0          2012 11   \n",
       "3 $0.00       16.99         Parris Cather 0          2013 03   \n",
       "4 $0.00       32.36         Parris Cather 0          2013 08   \n",
       "5 $0.00       20.07         Parris Cather 0          2013 08   \n",
       "6 $0.84       14.82         Parris Cather 0          2013 12   "
      ]
     },
     "metadata": {},
     "output_type": "display_data"
    }
   ],
   "source": [
    "df[,'year'] <- format(df[,'Order.Date'], '%Y')\n",
    "df[,'month'] <- format(df[,'Order.Date'], '%m')\n",
    "head(df)"
   ]
  },
  {
   "cell_type": "code",
   "execution_count": 14,
   "id": "618e10ae",
   "metadata": {},
   "outputs": [
    {
     "name": "stdout",
     "output_type": "stream",
     "text": [
      "# A tibble: 63 x 8\n",
      "# Groups:   year [12]\n",
      "   year  month total_sum total_min total_med total_max total_avg total_sd\n",
      "   <chr> <chr>     <dbl>     <dbl>     <dbl>     <dbl>     <dbl>    <dbl>\n",
      " 1 2011  06         25.4     25.4      25.4       25.4      25.4  NaN    \n",
      " 2 2012  11         19.3     19.3      19.3       19.3      19.3  NaN    \n",
      " 3 2013  03         17.0     17.0      17.0       17.0      17.0  NaN    \n",
      " 4 2013  08         52.4     20.1      26.2       32.4      26.2    8.69 \n",
      " 5 2013  12        355.      14.8     178.       340.      178.   230.   \n",
      " 6 2014  02         31.8     31.8      31.8       31.8      31.8  NaN    \n",
      " 7 2014  04         67.7     21.2      33.9       46.6      33.9   18.0  \n",
      " 8 2014  05        224        8.89     73.5      142.       74.7   66.4  \n",
      " 9 2014  09        520.       4.23    110.       295       130.   132.   \n",
      "10 2014  10        697.       8.36    349.       689.      349.   481.   \n",
      "11 2014  11        358.      14.8      34.1      105.       44.8   35.2  \n",
      "12 2014  12        269.      13.7      29.7       65.3      29.9   15.1  \n",
      "13 2015  02         86.4     86.4      86.4       86.4      86.4  NaN    \n",
      "14 2015  04         15.9     15.9      15.9       15.9      15.9  NaN    \n",
      "15 2015  05         56.1     19.0      28.1       37.1      28.1   12.8  \n",
      "16 2015  06        176.      13.8      20.4      122.       44.0   51.9  \n",
      "17 2015  07        236.      18.1      33.0       39.2      29.4    9.22 \n",
      "18 2015  08         60.1      8.4      10.3       20.7      12.0    4.97 \n",
      "19 2015  09        104.     104.      104.       104.      104.   NaN    \n",
      "20 2015  10         51.9      7.72      9.65      24.9      13.0    8.00 \n",
      "21 2015  11         71.5     71.5      71.5       71.5      71.5  NaN    \n",
      "22 2015  12        223.      95.4     111.       127.      111.    22.5  \n",
      "23 2016  05         64.0     21.2      21.2       21.7      21.3    0.289\n",
      "24 2016  06         39.3     18.2      19.7       21.2      19.7    2.11 \n",
      "25 2016  07         84.0      3.05     23.0       35.0      21.0   14.1  \n",
      "26 2016  08         57.3      9.09     21.2       27.0      19.1    9.14 \n",
      "27 2016  09         35.8      7.04     17.9       28.8      17.9   15.4  \n",
      "28 2016  10        183.       9.28     36.0       85.0      36.5   30.4  \n",
      "29 2016  12         61.7     61.7      61.7       61.7      61.7  NaN    \n",
      "30 2017  03         21.2     21.2      21.2       21.2      21.2  NaN    \n",
      "31 2017  04         34.9     34.9      34.9       34.9      34.9  NaN    \n",
      "32 2018  08         57.3     10.6      12.7       34        19.1   13.0  \n",
      "33 2019  01        102.      13.0      28.0       33.4      25.6    8.92 \n",
      "34 2019  08        404.      10.4      29.4       87.8      36.8   24.7  \n",
      "35 2019  09        122.       4.57     17.0       30.9      17.5    8.09 \n",
      "36 2019  11        398.      13        21.0      130.       39.8   38.0  \n",
      "37 2019  12         52.4     52.4      52.4       52.4      52.4  NaN    \n",
      "38 2020  01        208.       6.06     40.7       61.6      34.7   21.2  \n",
      "39 2020  02        550.      10.3      42.2      244.       68.8   76.6  \n",
      "40 2020  03         37.6     18.6      18.8       19.1      18.8    0.361\n",
      "41 2020  04        172.      19.1      28.6       55.1      34.5   14.6  \n",
      "42 2020  05        152.       9.53     13.7       52.2      21.7   17.2  \n",
      "43 2020  06         69.3     18.0      21.2       30.1      23.1    6.26 \n",
      "44 2020  08        731.      11.2      29.7       66.7      33.2   17.4  \n",
      "45 2020  09        467.      10.2      35.4       62.6      33.3   14.1  \n",
      "46 2020  10        611.       8.47     35.7       62.7      33.9   15.4  \n",
      "47 2020  11        695.       7.32     31.5       87.3      38.6   24.9  \n",
      "48 2020  12       1323.      11.6      31.3      297.       60.1   66.9  \n",
      "49 2021  01        952.      10.6      47.6      105.       50.1   27.2  \n",
      "50 2021  02        822.      19.0      54.7      105.       58.7   25.2  \n",
      "51 2021  03        960.       9.53     43.9      115.       48.0   30.2  \n",
      "52 2021  04        789.      40.6      79.7      119.       78.9   25.6  \n",
      "53 2021  05        435.      20.7      39.8       91.0      48.3   24.8  \n",
      "54 2021  06        878.      12.2      60.6      127.       58.6   31.1  \n",
      "55 2021  07        638.      19.0      61.8      100.       63.8   29.6  \n",
      "56 2021  08        486.       9.69     55.9       81.6      48.6   24.3  \n",
      "57 2021  09        204.      40.0      49.6       65.2      51.1   10.5  \n",
      "58 2021  10        168.      34.5      66.1       67.1      55.9   18.5  \n",
      "59 2021  11        656.      10.6      29.7      114.       43.8   30.2  \n",
      "60 2021  12        957.       7.41     27.0       72.7      33.0   20.6  \n",
      "61 2022  01        731.      12.3      38.9       83.1      40.6   20.9  \n",
      "62 2022  02        568.      12.3      57.6      137.       63.1   43.7  \n",
      "63 2022  03         69.3     69.3      69.3       69.3      69.3  NaN    \n"
     ]
    }
   ],
   "source": [
    "summary_grp_yr_mt <- df %>% group_by(year, month) %>%\n",
    "                        summarise(total_sum = sum(Total.Charged),\n",
    "                                  total_min = min(Total.Charged),\n",
    "                                  total_med = median(Total.Charged),\n",
    "                                  total_max = max(Total.Charged),\n",
    "                                  total_avg = mean(Total.Charged),\n",
    "                                  total_sd  = sd(Total.Charged))\n",
    "print(summary_grp_yr_mt, n = nrow(df))"
   ]
  },
  {
   "cell_type": "code",
   "execution_count": 56,
   "id": "75a4afc6",
   "metadata": {},
   "outputs": [
    {
     "name": "stdout",
     "output_type": "stream",
     "text": [
      "# A tibble: 63 x 3\n",
      "# Groups:   year [12]\n",
      "   year  month monthly_avg\n",
      "   <chr> <chr>       <dbl>\n",
      " 1 2011  06           25.4\n",
      " 2 2012  11           19.3\n",
      " 3 2013  03           17.0\n",
      " 4 2013  08           26.2\n",
      " 5 2013  12          178. \n",
      " 6 2014  02           31.8\n",
      " 7 2014  04           33.9\n",
      " 8 2014  05           74.7\n",
      " 9 2014  09          130. \n",
      "10 2014  10          349. \n",
      "11 2014  11           44.8\n",
      "12 2014  12           29.9\n",
      "13 2015  02           86.4\n",
      "14 2015  04           15.9\n",
      "15 2015  05           28.1\n",
      "16 2015  06           44.0\n",
      "17 2015  07           29.4\n",
      "18 2015  08           12.0\n",
      "19 2015  09          104. \n",
      "20 2015  10           13.0\n",
      "21 2015  11           71.5\n",
      "22 2015  12          111. \n",
      "23 2016  05           21.3\n",
      "24 2016  06           19.7\n",
      "25 2016  07           21.0\n",
      "26 2016  08           19.1\n",
      "27 2016  09           17.9\n",
      "28 2016  10           36.5\n",
      "29 2016  12           61.7\n",
      "30 2017  03           21.2\n",
      "31 2017  04           34.9\n",
      "32 2018  08           19.1\n",
      "33 2019  01           25.6\n",
      "34 2019  08           36.8\n",
      "35 2019  09           17.5\n",
      "36 2019  11           39.8\n",
      "37 2019  12           52.4\n",
      "38 2020  01           34.7\n",
      "39 2020  02           68.8\n",
      "40 2020  03           18.8\n",
      "41 2020  04           34.5\n",
      "42 2020  05           21.7\n",
      "43 2020  06           23.1\n",
      "44 2020  08           33.2\n",
      "45 2020  09           33.3\n",
      "46 2020  10           33.9\n",
      "47 2020  11           38.6\n",
      "48 2020  12           60.1\n",
      "49 2021  01           50.1\n",
      "50 2021  02           58.7\n",
      "51 2021  03           48.0\n",
      "52 2021  04           78.9\n",
      "53 2021  05           48.3\n",
      "54 2021  06           58.6\n",
      "55 2021  07           63.8\n",
      "56 2021  08           48.6\n",
      "57 2021  09           51.1\n",
      "58 2021  10           55.9\n",
      "59 2021  11           43.8\n",
      "60 2021  12           33.0\n",
      "61 2022  01           40.6\n",
      "62 2022  02           63.1\n",
      "63 2022  03           69.3\n"
     ]
    }
   ],
   "source": [
    "avg_grp_yr_mt <- df %>% group_by(year, month) %>% \n",
    "                    summarise(monthly_avg = mean(Total.Charged))\n",
    "print(avg_grp_yr_mt, n = nrow(df))"
   ]
  },
  {
   "cell_type": "code",
   "execution_count": 45,
   "id": "15ac3db2",
   "metadata": {},
   "outputs": [
    {
     "name": "stdout",
     "output_type": "stream",
     "text": [
      "# A tibble: 12 x 2\n",
      "   year  yearly_sum\n",
      "   <chr>      <dbl>\n",
      " 1 2011        25.4\n",
      " 2 2012        19.3\n",
      " 3 2013       424. \n",
      " 4 2014      2168. \n",
      " 5 2015      1080. \n",
      " 6 2016       525. \n",
      " 7 2017        56.0\n",
      " 8 2018        57.3\n",
      " 9 2019      1079. \n",
      "10 2020      5016. \n",
      "11 2021      7946. \n",
      "12 2022      1368. \n"
     ]
    }
   ],
   "source": [
    "sum_grp_yr <- df %>% group_by(year) %>%\n",
    "                summarise(yearly_sum = sum(Total.Charged))\n",
    "print(sum_grp_yr)"
   ]
  },
  {
   "cell_type": "code",
   "execution_count": 51,
   "id": "47734c21",
   "metadata": {},
   "outputs": [
    {
     "data": {
      "image/png": "[encoded data removed]",
      "text/plain": [
       "plot without title"
      ]
     },
     "metadata": {},
     "output_type": "display_data"
    }
   ],
   "source": [
    "library(ggplot2)\n",
    "p1 <- ggplot(sum_grp_yr, aes(x = '', y = yearly_sum, fill = year)) + \n",
    "      geom_bar(stat = 'identity') + coord_polar(theta = 'y')\n",
    "p1 + ggtitle('2011-2022 Total Amount Charged Divided by Year')"
   ]
  },
  {
   "cell_type": "code",
   "execution_count": 61,
   "id": "120591a2",
   "metadata": {},
   "outputs": [
    {
     "data": {
      "image/png": "[encoded data removed]",
      "text/plain": [
       "plot without title"
      ]
     },
     "metadata": {},
     "output_type": "display_data"
    }
   ],
   "source": [
    "p2 <- ggplot(avg_grp_yr_mt, aes(x = month, y = monthly_avg, color = year)) + geom_point()\n",
    "p2 + ggtitle('Avg Amount Charged per Month by Year') + xlab('Month') + ylab('Avg Amount Spent in $')"
   ]
  },
  {
   "cell_type": "code",
   "execution_count": 67,
   "id": "ac116db2",
   "metadata": {},
   "outputs": [
    {
     "name": "stdout",
     "output_type": "stream",
     "text": [
      "# A tibble: 10 x 2\n",
      "   month   avg\n",
      "   <chr> <dbl>\n",
      " 1 02     86.4\n",
      " 2 04     15.9\n",
      " 3 05     28.1\n",
      " 4 06     44.0\n",
      " 5 07     29.4\n",
      " 6 08     12.0\n",
      " 7 09    104. \n",
      " 8 10     13.0\n",
      " 9 11     71.5\n",
      "10 12    111. \n"
     ]
    }
   ],
   "source": [
    "data_2015 <- subset(df, year == '2015')\n",
    "mean_2015 <- data_2015 %>% group_by(month) %>%\n",
    "            summarise(avg = mean(Total.Charged))\n",
    "print(mean_2015)"
   ]
  },
  {
   "cell_type": "code",
   "execution_count": 68,
   "id": "16772e1b",
   "metadata": {},
   "outputs": [
    {
     "name": "stdout",
     "output_type": "stream",
     "text": [
      "# A tibble: 11 x 2\n",
      "   month   avg\n",
      "   <chr> <dbl>\n",
      " 1 01     34.7\n",
      " 2 02     68.8\n",
      " 3 03     18.8\n",
      " 4 04     34.5\n",
      " 5 05     21.7\n",
      " 6 06     23.1\n",
      " 7 08     33.2\n",
      " 8 09     33.3\n",
      " 9 10     33.9\n",
      "10 11     38.6\n",
      "11 12     60.1\n"
     ]
    }
   ],
   "source": [
    "data_2020 <- subset(df, year == '2020')\n",
    "mean_2020 <- data_2020 %>% group_by(month) %>%\n",
    "            summarise(avg = mean(Total.Charged))\n",
    "print(mean_2020)"
   ]
  },
  {
   "cell_type": "code",
   "execution_count": 69,
   "id": "323076fc",
   "metadata": {
    "scrolled": true
   },
   "outputs": [
    {
     "name": "stdout",
     "output_type": "stream",
     "text": [
      "# A tibble: 12 x 2\n",
      "   month   avg\n",
      "   <chr> <dbl>\n",
      " 1 01     50.1\n",
      " 2 02     58.7\n",
      " 3 03     48.0\n",
      " 4 04     78.9\n",
      " 5 05     48.3\n",
      " 6 06     58.6\n",
      " 7 07     63.8\n",
      " 8 08     48.6\n",
      " 9 09     51.1\n",
      "10 10     55.9\n",
      "11 11     43.8\n",
      "12 12     33.0\n"
     ]
    }
   ],
   "source": [
    "data_2021 <- subset(df, year == '2021')\n",
    "mean_2021 <- data_2021 %>% group_by(month) %>%\n",
    "            summarise(avg = mean(Total.Charged))\n",
    "print(mean_2021)"
   ]
  },
  {
   "cell_type": "code",
   "execution_count": 83,
   "id": "944fcc8d",
   "metadata": {},
   "outputs": [
    {
     "data": {
      "image/png": "[encoded data removed]",
      "text/plain": [
       "plot without title"
      ]
     },
     "metadata": {},
     "output_type": "display_data"
    }
   ],
   "source": [
    "p3 <- ggplot(data_2015, aes(month)) + \n",
    "    geom_bar()\n",
    "p3"
   ]
  },
  {
   "cell_type": "code",
   "execution_count": 84,
   "id": "2fdc4035",
   "metadata": {},
   "outputs": [
    {
     "data": {
      "image/png": "[encoded data removed]",
      "text/plain": [
       "plot without title"
      ]
     },
     "metadata": {},
     "output_type": "display_data"
    }
   ],
   "source": [
    "p4 <- ggplot(data_2020, aes(month)) + \n",
    "    geom_bar()\n",
    "p4"
   ]
  },
  {
   "cell_type": "code",
   "execution_count": 85,
   "id": "1b1e65a0",
   "metadata": {},
   "outputs": [
    {
     "data": {
      "image/png": "[encoded data removed]",
      "text/plain": [
       "plot without title"
      ]
     },
     "metadata": {},
     "output_type": "display_data"
    }
   ],
   "source": [
    "p5 <- ggplot(data_2021, aes(month)) + \n",
    "    geom_bar()\n",
    "p5"
   ]
  },
  {
   "cell_type": "code",
   "execution_count": null,
   "id": "1a750b98",
   "metadata": {},
   "outputs": [],
   "source": []
  }
 ],
 "metadata": {
  "kernelspec": {
   "display_name": "R",
   "language": "R",
   "name": "ir"
  },
  "language_info": {
   "codemirror_mode": "r",
   "file_extension": ".r",
   "mimetype": "text/x-r-source",
   "name": "R",
   "pygments_lexer": "r",
   "version": "3.6.1"
  }
 },
 "nbformat": 4,
 "nbformat_minor": 5
}
