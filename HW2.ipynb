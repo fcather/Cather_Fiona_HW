{
 "cells": [
  {
   "cell_type": "code",
   "execution_count": 1,
   "id": "b6ad8f90",
   "metadata": {},
   "outputs": [
    {
     "name": "stdout",
     "output_type": "stream",
     "text": [
      "0\n",
      "1\n",
      "2\n",
      "3\n",
      "4\n"
     ]
    }
   ],
   "source": [
    "# Question 1\n",
    "n = 0\n",
    "while n < 10:\n",
    "    print(n)\n",
    "    n += 1\n",
    "    if n == 5:\n",
    "        break"
   ]
  },
  {
   "cell_type": "code",
   "execution_count": 2,
   "id": "34b7926c",
   "metadata": {},
   "outputs": [
    {
     "name": "stdout",
     "output_type": "stream",
     "text": [
      "0\n",
      "1\n",
      "2\n",
      "3\n",
      "4\n",
      "5 is not less than 5\n"
     ]
    }
   ],
   "source": [
    "# Question 2\n",
    "n = 0\n",
    "while n < 5:\n",
    "    print(n)\n",
    "    n += 1\n",
    "else:\n",
    "    print(n, \"is not less than 5\")"
   ]
  },
  {
   "cell_type": "code",
   "execution_count": 3,
   "id": "12476ff5",
   "metadata": {},
   "outputs": [
    {
     "name": "stdout",
     "output_type": "stream",
     "text": [
      "I like watermelon\n",
      "I like grape\n",
      "I like mango\n",
      "apple is really a fruit?\n"
     ]
    }
   ],
   "source": [
    "# Question 3\n",
    "favorite_fruits = [\"watermelon\", \"grape\", \"mango\", \"apple\", \"strawberry\", \"cherry\", \"tangerine\"]\n",
    "for fruit in favorite_fruits:\n",
    "    if fruit == \"apple\":\n",
    "        print(f'{fruit} is really a fruit?')\n",
    "        break \n",
    "    print(f'I like {fruit}')  "
   ]
  },
  {
   "cell_type": "code",
   "execution_count": 4,
   "id": "9edd4331",
   "metadata": {},
   "outputs": [
    {
     "name": "stdout",
     "output_type": "stream",
     "text": [
      "Integer is 1 and sum is 1\n",
      "Integer is 2 and sum is 3\n",
      "Integer is 3 and sum is 6\n",
      "Integer is 4 and sum is 10\n",
      "Integer is 5 and sum is 15\n",
      "Integer is 6 and sum is 21\n",
      "Integer is 7 and sum is 28\n",
      "Integer is 8 and sum is 36\n",
      "Integer is 9 and sum is 45\n",
      "Integer is 10 and sum is 55\n",
      "Integer is 11 and sum is 66\n",
      "Integer is 12 and sum is 78\n",
      "Integer is 13 and sum is 91\n",
      "Integer is 14 and sum is 105\n",
      "Integer is 15 and sum is 120\n",
      "Integer is 16 and sum is 136\n",
      "Integer is 17 and sum is 153\n",
      "Integer is 18 and sum is 171\n",
      "Integer is 19 and sum is 190\n",
      "Integer is 20 and sum is 210\n",
      "Integer is 21 and sum is 231\n",
      "Integer is 22 and sum is 253\n",
      "Integer is 23 and sum is 276\n",
      "Integer is 24 and sum is 300\n",
      "Integer is 25 and sum is 325\n",
      "Integer is 26 and sum is 351\n",
      "Integer is 27 and sum is 378\n",
      "Integer is 28 and sum is 406\n",
      "Integer is 29 and sum is 435\n",
      "Integer is 30 and sum is 465\n"
     ]
    }
   ],
   "source": [
    "# Question 4\n",
    "n = 30\n",
    "sum = 0\n",
    "i = 1\n",
    "\n",
    "while i <= n:\n",
    "    sum = sum + i\n",
    "    print(\"Integer is\", i, \"and sum is\", sum) \n",
    "    i = i + 1"
   ]
  },
  {
   "cell_type": "code",
   "execution_count": 6,
   "id": "d24e4653",
   "metadata": {},
   "outputs": [
    {
     "name": "stdout",
     "output_type": "stream",
     "text": [
      "C\n"
     ]
    }
   ],
   "source": [
    "# Question 5\n",
    "grade = 78\n",
    "if grade >= 90:\n",
    "    print(\"A\")\n",
    "elif grade >= 80:\n",
    "    print(\"B\")\n",
    "elif grade >= 70:\n",
    "    print(\"C\")\n",
    "elif grade >= 60:\n",
    "    print(\"D\")\n",
    "else:\n",
    "    print(\"F\")"
   ]
  },
  {
   "cell_type": "code",
   "execution_count": 1,
   "id": "ee1b7a22",
   "metadata": {},
   "outputs": [
    {
     "data": {
      "text/plain": [
       "{'Andy': 88, 'Amy': 66, 'James': 90, 'Jules': 55, 'Arthur': 77}"
      ]
     },
     "execution_count": 1,
     "metadata": {},
     "output_type": "execute_result"
    }
   ],
   "source": [
    "# Question 6\n",
    "student_grade = {'Andy': 88, 'Amy': 66, 'James': 90, 'Jules': 55, 'Arthur': 77}\n",
    "student_grade"
   ]
  },
  {
   "cell_type": "code",
   "execution_count": 16,
   "id": "e07be6ec",
   "metadata": {},
   "outputs": [
    {
     "name": "stdout",
     "output_type": "stream",
     "text": [
      "Andy: 88\n",
      "Amy: 66\n",
      "James: 90\n",
      "Jules: 55\n",
      "Arthur: 77\n"
     ]
    }
   ],
   "source": [
    "# Question 6.1\n",
    "for name, grade in student_grade.items():\n",
    "    print(f'{name}: {grade}')"
   ]
  },
  {
   "cell_type": "code",
   "execution_count": 23,
   "id": "b8f30fce",
   "metadata": {},
   "outputs": [
    {
     "name": "stdout",
     "output_type": "stream",
     "text": [
      "The student's mean grade is 75.2\n",
      "The maximal grade is 90\n",
      "The minimal grade is 55\n"
     ]
    }
   ],
   "source": [
    "# Question 6.2\n",
    "# Of this dictionary, calculate all the student’s mean grade, maximal grade, and minimal grade.\n",
    "print(\"The student's mean grade is\", sum(student_grade.values())/len(student_grade))\n",
    "print(\"The maximal grade is\", max(student_grade.values()))\n",
    "print(\"The minimal grade is\", min(student_grade.values()))"
   ]
  },
  {
   "cell_type": "code",
   "execution_count": 18,
   "id": "cf5e9157",
   "metadata": {},
   "outputs": [
    {
     "name": "stdout",
     "output_type": "stream",
     "text": [
      "Andy\n",
      "Amy\n"
     ]
    }
   ],
   "source": [
    "# Question 6.3\n",
    "# Using for loop or while loop, for all the keys in the dictionary, print out key. However, if ‘J’ appears, stop the loop.\n",
    "for k in student_grade.keys():\n",
    "    if 'J' in k:\n",
    "        break\n",
    "    print(k)   "
   ]
  },
  {
   "cell_type": "code",
   "execution_count": 5,
   "id": "06b8c4dc",
   "metadata": {},
   "outputs": [
    {
     "name": "stdout",
     "output_type": "stream",
     "text": [
      "Andy\n",
      "Amy\n",
      "Arthur\n"
     ]
    }
   ],
   "source": [
    "# Question 6.4\n",
    "# Using for loop or while loop, for all the keys in the dictionary, print out key. However, if ‘J’ appears, \n",
    "# skip this key, and continue the loop\n",
    "for k in student_grade.keys():\n",
    "    if 'J' in k:\n",
    "        continue\n",
    "    print(k)"
   ]
  }
 ],
 "metadata": {
  "kernelspec": {
   "display_name": "Python 3 (ipykernel)",
   "language": "python",
   "name": "python3"
  },
  "language_info": {
   "codemirror_mode": {
    "name": "ipython",
    "version": 3
   },
   "file_extension": ".py",
   "mimetype": "text/x-python",
   "name": "python",
   "nbconvert_exporter": "python",
   "pygments_lexer": "ipython3",
   "version": "3.9.7"
  }
 },
 "nbformat": 4,
 "nbformat_minor": 5
}
